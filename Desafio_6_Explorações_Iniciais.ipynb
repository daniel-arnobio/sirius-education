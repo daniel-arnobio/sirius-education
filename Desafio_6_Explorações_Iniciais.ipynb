{
  "cells": [
    {
      "cell_type": "markdown",
      "id": "Tjr_SOu0VR9z",
      "metadata": {
        "cell_id": "34e30b7a-68d8-4766-987a-9b1031a5837f",
        "deepnote_cell_height": 196.78125,
        "deepnote_cell_type": "markdown",
        "id": "Tjr_SOu0VR9z"
      },
      "source": [
        "<div>\n",
        "    <p style=\"float: right;\"><img src=\"https://media.swipepages.com/2021/2/sirius-logo-principal-tag-1-300.png\" height=\"80px\"border=\"1px\"></p>\n",
        "    \n",
        "</div>\n",
        "<h1>Nano Desafio 6 </h1>\n",
        "\n",
        "Aluno: Daniel Arnóbio Dantas da Silva"
      ]
    },
    {
      "cell_type": "markdown",
      "id": "vFz-eGKMVR93",
      "metadata": {
        "cell_id": "00001-5251bf92-3daa-4e44-ab56-dda063e7a840",
        "deepnote_cell_height": 54,
        "deepnote_cell_type": "markdown",
        "id": "vFz-eGKMVR93"
      },
      "source": [
        "##### Introdução"
      ]
    },
    {
      "cell_type": "markdown",
      "id": "0IzXRK2FVR96",
      "metadata": {
        "cell_id": "00004-266f978d-7593-4c33-8a13-6dece1b3ff9f",
        "deepnote_cell_height": 169.5625,
        "deepnote_cell_type": "markdown",
        "id": "0IzXRK2FVR96"
      },
      "source": [
        "##### O conjunto de dados\n",
        "A Walt Disney Studios já produziu mais de 600 filmes desde seu filme de estreia, Branca de Neve e os Sete Anões, em 1937. Vamos, explorar um conjunto de dados de filmes da Disney !! Esses dados foram compilados por <a href=\"https://data.world/kgarrett/disney-character-success-00-16\">Kelly Garrett</a>. Os dados contêm 579 filmes da Disney com seis características: título do filme, data de lançamento, gênero, classificação MPAA, bilheteria bruta  e bilheteria ajustada pela inflação. </p>"
      ]
    },
    {
      "cell_type": "markdown",
      "id": "Er4iIUhnVR97",
      "metadata": {
        "cell_id": "00006-aa330648-ae27-4a4f-800d-95a693413bfb",
        "deepnote_cell_height": 52.390625,
        "deepnote_cell_type": "markdown",
        "id": "Er4iIUhnVR97"
      },
      "source": [
        "Importando o dataframe"
      ]
    },
    {
      "cell_type": "code",
      "execution_count": 70,
      "id": "8d-XKvBRVR98",
      "metadata": {
        "cell_id": "00007-25fc91bf-6ce5-44a6-8119-aafe85f6f795",
        "deepnote_cell_height": 117,
        "deepnote_cell_type": "code",
        "deepnote_to_be_reexecuted": false,
        "execution_millis": 24,
        "execution_start": 1654829009189,
        "id": "8d-XKvBRVR98",
        "source_hash": "b052780a"
      },
      "outputs": [],
      "source": [
        "import pandas as pd\n",
        "import numpy as np\n",
        "# Leia o arquivo \n",
        "dados = pd.read_csv('disney_movies_total_gross.csv', parse_dates =['release_date'])"
      ]
    },
    {
      "cell_type": "code",
      "execution_count": 71,
      "id": "7IlGqALrVR-A",
      "metadata": {
        "cell_id": "00011-b86d67e2-bc99-41d7-a3fd-f8ec49bd8e24",
        "deepnote_cell_height": 412,
        "deepnote_cell_type": "code",
        "deepnote_to_be_reexecuted": false,
        "execution_millis": 826,
        "execution_start": 1654829031949,
        "id": "7IlGqALrVR-A",
        "outputId": "d96af513-2bc8-42cd-96d8-5ff7223e9969",
        "source_hash": "1db5586b"
      },
      "outputs": [
        {
          "data": {
            "text/html": [
              "<div>\n",
              "<style scoped>\n",
              "    .dataframe tbody tr th:only-of-type {\n",
              "        vertical-align: middle;\n",
              "    }\n",
              "\n",
              "    .dataframe tbody tr th {\n",
              "        vertical-align: top;\n",
              "    }\n",
              "\n",
              "    .dataframe thead th {\n",
              "        text-align: right;\n",
              "    }\n",
              "</style>\n",
              "<table border=\"1\" class=\"dataframe\">\n",
              "  <thead>\n",
              "    <tr style=\"text-align: right;\">\n",
              "      <th></th>\n",
              "      <th>movie_title</th>\n",
              "      <th>release_date</th>\n",
              "      <th>genre</th>\n",
              "      <th>mpaa_rating</th>\n",
              "      <th>total_gross</th>\n",
              "      <th>inflation_adjusted_gross</th>\n",
              "    </tr>\n",
              "  </thead>\n",
              "  <tbody>\n",
              "    <tr>\n",
              "      <th>0</th>\n",
              "      <td>Snow White and the Seven Dwarfs</td>\n",
              "      <td>1937-12-21</td>\n",
              "      <td>Musical</td>\n",
              "      <td>G</td>\n",
              "      <td>184925485</td>\n",
              "      <td>5228953251</td>\n",
              "    </tr>\n",
              "    <tr>\n",
              "      <th>1</th>\n",
              "      <td>Pinocchio</td>\n",
              "      <td>1940-02-09</td>\n",
              "      <td>Adventure</td>\n",
              "      <td>G</td>\n",
              "      <td>84300000</td>\n",
              "      <td>2188229052</td>\n",
              "    </tr>\n",
              "    <tr>\n",
              "      <th>2</th>\n",
              "      <td>Fantasia</td>\n",
              "      <td>1940-11-13</td>\n",
              "      <td>Musical</td>\n",
              "      <td>G</td>\n",
              "      <td>83320000</td>\n",
              "      <td>2187090808</td>\n",
              "    </tr>\n",
              "    <tr>\n",
              "      <th>3</th>\n",
              "      <td>Song of the South</td>\n",
              "      <td>1946-11-12</td>\n",
              "      <td>Adventure</td>\n",
              "      <td>G</td>\n",
              "      <td>65000000</td>\n",
              "      <td>1078510579</td>\n",
              "    </tr>\n",
              "    <tr>\n",
              "      <th>4</th>\n",
              "      <td>Cinderella</td>\n",
              "      <td>1950-02-15</td>\n",
              "      <td>Drama</td>\n",
              "      <td>G</td>\n",
              "      <td>85000000</td>\n",
              "      <td>920608730</td>\n",
              "    </tr>\n",
              "  </tbody>\n",
              "</table>\n",
              "</div>"
            ],
            "text/plain": [
              "                       movie_title release_date      genre mpaa_rating  \\\n",
              "0  Snow White and the Seven Dwarfs   1937-12-21    Musical           G   \n",
              "1                        Pinocchio   1940-02-09  Adventure           G   \n",
              "2                         Fantasia   1940-11-13    Musical           G   \n",
              "3                Song of the South   1946-11-12  Adventure           G   \n",
              "4                       Cinderella   1950-02-15      Drama           G   \n",
              "\n",
              "   total_gross  inflation_adjusted_gross  \n",
              "0    184925485                5228953251  \n",
              "1     84300000                2188229052  \n",
              "2     83320000                2187090808  \n",
              "3     65000000                1078510579  \n",
              "4     85000000                 920608730  "
            ]
          },
          "execution_count": 71,
          "metadata": {},
          "output_type": "execute_result"
        }
      ],
      "source": [
        "dados.head()"
      ]
    },
    {
      "cell_type": "markdown",
      "id": "O8G6qYKQVR-C",
      "metadata": {
        "cell_id": "00014-d1586124-cecf-4aaf-9ca7-07ec2c9b15e6",
        "deepnote_cell_height": 52.390625,
        "deepnote_cell_type": "markdown",
        "id": "O8G6qYKQVR-C"
      },
      "source": [
        "Renomeando as colunas para o português"
      ]
    },
    {
      "cell_type": "markdown",
      "id": "y8UhJulNVR-C",
      "metadata": {
        "cell_id": "00015-400f4b24-8241-4d90-95fb-77eaf17fa580",
        "deepnote_cell_height": 52.390625,
        "deepnote_cell_type": "markdown",
        "id": "y8UhJulNVR-C"
      },
      "source": [
        "['tit_do_filme','dt_lancamento','genero','classificacao_mpaa','bilheteria_bruta','bilheteria_ajustada_inflacao']"
      ]
    },
    {
      "cell_type": "code",
      "execution_count": 72,
      "id": "rGdZ7tYmVR-D",
      "metadata": {
        "cell_id": "50a48256a39e4480b625d79fd79098f3",
        "deepnote_cell_height": 81,
        "deepnote_cell_type": "code",
        "deepnote_to_be_reexecuted": false,
        "execution_millis": 18,
        "execution_start": 1654829040636,
        "id": "rGdZ7tYmVR-D",
        "source_hash": "43172182",
        "tags": []
      },
      "outputs": [],
      "source": [
        "dados.columns = ['tit_do_filme','dt_lancamento','genero','classificacao_mpaa','bilheteria_bruta','bilheteria_ajustada_inflacao']"
      ]
    },
    {
      "cell_type": "code",
      "execution_count": 73,
      "id": "_WdUQwYZVR-E",
      "metadata": {
        "cell_id": "00017-4fdc4866-7014-4018-89ef-7498d0f27bd0",
        "deepnote_cell_height": 412,
        "deepnote_cell_type": "code",
        "deepnote_to_be_reexecuted": false,
        "execution_millis": 524,
        "execution_start": 1654817596324,
        "id": "_WdUQwYZVR-E",
        "outputId": "cd1e093b-7e22-47c5-a581-c20aec1c5fbd",
        "source_hash": "1db5586b"
      },
      "outputs": [
        {
          "data": {
            "text/html": [
              "<div>\n",
              "<style scoped>\n",
              "    .dataframe tbody tr th:only-of-type {\n",
              "        vertical-align: middle;\n",
              "    }\n",
              "\n",
              "    .dataframe tbody tr th {\n",
              "        vertical-align: top;\n",
              "    }\n",
              "\n",
              "    .dataframe thead th {\n",
              "        text-align: right;\n",
              "    }\n",
              "</style>\n",
              "<table border=\"1\" class=\"dataframe\">\n",
              "  <thead>\n",
              "    <tr style=\"text-align: right;\">\n",
              "      <th></th>\n",
              "      <th>tit_do_filme</th>\n",
              "      <th>dt_lancamento</th>\n",
              "      <th>genero</th>\n",
              "      <th>classificacao_mpaa</th>\n",
              "      <th>bilheteria_bruta</th>\n",
              "      <th>bilheteria_ajustada_inflacao</th>\n",
              "    </tr>\n",
              "  </thead>\n",
              "  <tbody>\n",
              "    <tr>\n",
              "      <th>0</th>\n",
              "      <td>Snow White and the Seven Dwarfs</td>\n",
              "      <td>1937-12-21</td>\n",
              "      <td>Musical</td>\n",
              "      <td>G</td>\n",
              "      <td>184925485</td>\n",
              "      <td>5228953251</td>\n",
              "    </tr>\n",
              "    <tr>\n",
              "      <th>1</th>\n",
              "      <td>Pinocchio</td>\n",
              "      <td>1940-02-09</td>\n",
              "      <td>Adventure</td>\n",
              "      <td>G</td>\n",
              "      <td>84300000</td>\n",
              "      <td>2188229052</td>\n",
              "    </tr>\n",
              "    <tr>\n",
              "      <th>2</th>\n",
              "      <td>Fantasia</td>\n",
              "      <td>1940-11-13</td>\n",
              "      <td>Musical</td>\n",
              "      <td>G</td>\n",
              "      <td>83320000</td>\n",
              "      <td>2187090808</td>\n",
              "    </tr>\n",
              "    <tr>\n",
              "      <th>3</th>\n",
              "      <td>Song of the South</td>\n",
              "      <td>1946-11-12</td>\n",
              "      <td>Adventure</td>\n",
              "      <td>G</td>\n",
              "      <td>65000000</td>\n",
              "      <td>1078510579</td>\n",
              "    </tr>\n",
              "    <tr>\n",
              "      <th>4</th>\n",
              "      <td>Cinderella</td>\n",
              "      <td>1950-02-15</td>\n",
              "      <td>Drama</td>\n",
              "      <td>G</td>\n",
              "      <td>85000000</td>\n",
              "      <td>920608730</td>\n",
              "    </tr>\n",
              "  </tbody>\n",
              "</table>\n",
              "</div>"
            ],
            "text/plain": [
              "                      tit_do_filme dt_lancamento     genero  \\\n",
              "0  Snow White and the Seven Dwarfs    1937-12-21    Musical   \n",
              "1                        Pinocchio    1940-02-09  Adventure   \n",
              "2                         Fantasia    1940-11-13    Musical   \n",
              "3                Song of the South    1946-11-12  Adventure   \n",
              "4                       Cinderella    1950-02-15      Drama   \n",
              "\n",
              "  classificacao_mpaa  bilheteria_bruta  bilheteria_ajustada_inflacao  \n",
              "0                  G         184925485                    5228953251  \n",
              "1                  G          84300000                    2188229052  \n",
              "2                  G          83320000                    2187090808  \n",
              "3                  G          65000000                    1078510579  \n",
              "4                  G          85000000                     920608730  "
            ]
          },
          "execution_count": 73,
          "metadata": {},
          "output_type": "execute_result"
        }
      ],
      "source": [
        "dados.head()"
      ]
    },
    {
      "cell_type": "code",
      "execution_count": 74,
      "id": "Y5e5zIsOVR-G",
      "metadata": {
        "cell_id": "00020-56a30360-bdb4-4c3e-aa11-d0231c25452f",
        "deepnote_cell_height": 354.4375,
        "deepnote_cell_type": "code",
        "deepnote_to_be_reexecuted": false,
        "execution_millis": 24,
        "execution_start": 1654829047969,
        "id": "Y5e5zIsOVR-G",
        "outputId": "1e580d93-66e3-43f8-9484-5231af0e1d5a",
        "source_hash": "2360d0b6"
      },
      "outputs": [
        {
          "name": "stdout",
          "output_type": "stream",
          "text": [
            "<class 'pandas.core.frame.DataFrame'>\n",
            "RangeIndex: 579 entries, 0 to 578\n",
            "Data columns (total 6 columns):\n",
            " #   Column                        Non-Null Count  Dtype         \n",
            "---  ------                        --------------  -----         \n",
            " 0   tit_do_filme                  579 non-null    object        \n",
            " 1   dt_lancamento                 579 non-null    datetime64[ns]\n",
            " 2   genero                        562 non-null    object        \n",
            " 3   classificacao_mpaa            523 non-null    object        \n",
            " 4   bilheteria_bruta              579 non-null    int64         \n",
            " 5   bilheteria_ajustada_inflacao  579 non-null    int64         \n",
            "dtypes: datetime64[ns](1), int64(2), object(3)\n",
            "memory usage: 27.3+ KB\n"
          ]
        }
      ],
      "source": [
        "dados.info()"
      ]
    },
    {
      "cell_type": "markdown",
      "id": "TagPGCIsVR-G",
      "metadata": {
        "cell_id": "00021-65474aec-e6e6-4b68-ae41-4924801a7005",
        "deepnote_cell_height": 52.390625,
        "deepnote_cell_type": "markdown",
        "id": "TagPGCIsVR-G"
      },
      "source": [
        "Média da bilheteria ajustada a inflação"
      ]
    },
    {
      "cell_type": "code",
      "execution_count": 75,
      "id": "3kG-oKBxVR-H",
      "metadata": {
        "cell_id": "00022-9546f14e-8c55-4f6b-abe0-a028d39b9200",
        "deepnote_cell_height": 271.6875,
        "deepnote_cell_type": "code",
        "deepnote_output_heights": [
          174.6875
        ],
        "deepnote_to_be_reexecuted": false,
        "execution_millis": 1,
        "execution_start": 1654817851976,
        "id": "3kG-oKBxVR-H",
        "outputId": "82b2074b-4d8e-4a30-9557-be0e0c2f0646",
        "source_hash": "4eedf520"
      },
      "outputs": [
        {
          "data": {
            "text/plain": [
              "118762523.31088082"
            ]
          },
          "execution_count": 75,
          "metadata": {},
          "output_type": "execute_result"
        }
      ],
      "source": [
        "dados['bilheteria_ajustada_inflacao'].mean()"
      ]
    },
    {
      "cell_type": "markdown",
      "id": "X9A-pKWyVR-H",
      "metadata": {
        "cell_id": "00023-30e46810-eafd-4dbc-86a7-e392a75e0632",
        "deepnote_cell_height": 52.390625,
        "deepnote_cell_type": "markdown",
        "id": "X9A-pKWyVR-H"
      },
      "source": [
        "Mediana da bilheterias ajustada"
      ]
    },
    {
      "cell_type": "code",
      "execution_count": 76,
      "id": "Qh85K8VWVR-I",
      "metadata": {
        "cell_id": "00024-dab7552c-7f43-487b-a953-1df8424f398a",
        "deepnote_cell_height": 271.6875,
        "deepnote_cell_type": "code",
        "deepnote_output_heights": [
          174.6875
        ],
        "deepnote_to_be_reexecuted": false,
        "execution_millis": 644,
        "execution_start": 1654817660259,
        "id": "Qh85K8VWVR-I",
        "outputId": "4df08109-13f7-4f72-e903-b53eda7d3c7c",
        "source_hash": "4eedf520"
      },
      "outputs": [
        {
          "data": {
            "text/plain": [
              "55159783.0"
            ]
          },
          "execution_count": 76,
          "metadata": {},
          "output_type": "execute_result"
        }
      ],
      "source": [
        "dados['bilheteria_ajustada_inflacao'].median()"
      ]
    },
    {
      "cell_type": "markdown",
      "id": "8YEdKW-yVR-I",
      "metadata": {
        "cell_id": "00025-1c2f138e-3d92-4e18-8882-a706948a79ac",
        "deepnote_cell_height": 52.390625,
        "deepnote_cell_type": "markdown",
        "id": "8YEdKW-yVR-I"
      },
      "source": [
        "Datas máximas e minimas de lançamentos de filmes nesse dataset"
      ]
    },
    {
      "cell_type": "code",
      "execution_count": 77,
      "id": "LuNoFDHMVR-I",
      "metadata": {
        "cell_id": "00026-be0d995e-ce98-4f1a-96bf-0275e6055c7f",
        "deepnote_cell_height": 303.6875,
        "deepnote_cell_type": "code",
        "deepnote_output_heights": [
          null,
          136.3125
        ],
        "deepnote_to_be_reexecuted": false,
        "execution_millis": 12,
        "execution_start": 1654829123351,
        "id": "LuNoFDHMVR-I",
        "outputId": "0dfeaa6a-25a8-4cc4-938d-b5dff2c154c8",
        "source_hash": "3a242f61"
      },
      "outputs": [
        {
          "data": {
            "text/plain": [
              "Timestamp('2016-12-16 00:00:00')"
            ]
          },
          "execution_count": 77,
          "metadata": {},
          "output_type": "execute_result"
        }
      ],
      "source": [
        "dados['dt_lancamento'].max()"
      ]
    },
    {
      "cell_type": "code",
      "execution_count": 78,
      "id": "09b306ec",
      "metadata": {},
      "outputs": [
        {
          "data": {
            "text/plain": [
              "Timestamp('1937-12-21 00:00:00')"
            ]
          },
          "execution_count": 78,
          "metadata": {},
          "output_type": "execute_result"
        }
      ],
      "source": [
        "dados['dt_lancamento'].min()"
      ]
    },
    {
      "cell_type": "markdown",
      "id": "WS_lzULaVR-J",
      "metadata": {
        "cell_id": "00027-18a45b90-4050-432b-b0fc-c270763722fb",
        "deepnote_cell_height": 52.390625,
        "deepnote_cell_type": "markdown",
        "id": "WS_lzULaVR-J"
      },
      "source": [
        "8 - Qual filme tem maior bilheteria_ajustada_inflacao ?"
      ]
    },
    {
      "cell_type": "code",
      "execution_count": 79,
      "id": "Gr6Z6fqpVR-J",
      "metadata": {
        "cell_id": "00028-a55229f4-1e8a-4df8-942c-4a0ab522eeef",
        "deepnote_cell_height": 248,
        "deepnote_cell_type": "code",
        "deepnote_to_be_reexecuted": false,
        "execution_millis": 295,
        "execution_start": 1654829188204,
        "id": "Gr6Z6fqpVR-J",
        "outputId": "3c82834f-76bb-4618-bea4-9702cc264f81",
        "source_hash": "8bd5fc8f"
      },
      "outputs": [
        {
          "data": {
            "text/html": [
              "<div>\n",
              "<style scoped>\n",
              "    .dataframe tbody tr th:only-of-type {\n",
              "        vertical-align: middle;\n",
              "    }\n",
              "\n",
              "    .dataframe tbody tr th {\n",
              "        vertical-align: top;\n",
              "    }\n",
              "\n",
              "    .dataframe thead th {\n",
              "        text-align: right;\n",
              "    }\n",
              "</style>\n",
              "<table border=\"1\" class=\"dataframe\">\n",
              "  <thead>\n",
              "    <tr style=\"text-align: right;\">\n",
              "      <th></th>\n",
              "      <th>tit_do_filme</th>\n",
              "      <th>dt_lancamento</th>\n",
              "      <th>genero</th>\n",
              "      <th>classificacao_mpaa</th>\n",
              "      <th>bilheteria_bruta</th>\n",
              "      <th>bilheteria_ajustada_inflacao</th>\n",
              "    </tr>\n",
              "  </thead>\n",
              "  <tbody>\n",
              "    <tr>\n",
              "      <th>0</th>\n",
              "      <td>Snow White and the Seven Dwarfs</td>\n",
              "      <td>1937-12-21</td>\n",
              "      <td>Musical</td>\n",
              "      <td>G</td>\n",
              "      <td>184925485</td>\n",
              "      <td>5228953251</td>\n",
              "    </tr>\n",
              "  </tbody>\n",
              "</table>\n",
              "</div>"
            ],
            "text/plain": [
              "                      tit_do_filme dt_lancamento   genero classificacao_mpaa  \\\n",
              "0  Snow White and the Seven Dwarfs    1937-12-21  Musical                  G   \n",
              "\n",
              "   bilheteria_bruta  bilheteria_ajustada_inflacao  \n",
              "0         184925485                    5228953251  "
            ]
          },
          "execution_count": 79,
          "metadata": {},
          "output_type": "execute_result"
        }
      ],
      "source": [
        "dados.sort_values(by='bilheteria_ajustada_inflacao', ascending=False).head(1)"
      ]
    },
    {
      "cell_type": "markdown",
      "id": "Jzy30MZiVR-J",
      "metadata": {
        "cell_id": "00031-ec75031c-3b48-44ec-b074-fe9c8be78291",
        "deepnote_cell_height": 52.390625,
        "deepnote_cell_type": "markdown",
        "id": "Jzy30MZiVR-J"
      },
      "source": [
        "Ordenando os dados por dt_lancamento e criando um novo dataframe chamado de de data_ordenada"
      ]
    },
    {
      "cell_type": "code",
      "execution_count": 80,
      "id": "kL_tm594VR-K",
      "metadata": {
        "cell_id": "dacae759202148cebaedcab67cda4fd3",
        "deepnote_cell_height": 81,
        "deepnote_cell_type": "code",
        "deepnote_to_be_reexecuted": false,
        "execution_millis": 14,
        "execution_start": 1654829438216,
        "id": "kL_tm594VR-K",
        "source_hash": "dcbc8a7",
        "tags": []
      },
      "outputs": [],
      "source": [
        "data_ordenada = dados.sort_values(by='dt_lancamento')"
      ]
    },
    {
      "cell_type": "code",
      "execution_count": 81,
      "id": "_wemK-ddVR-K",
      "metadata": {
        "cell_id": "86a014dc506946a4aeefcaf67d0cfab7",
        "deepnote_cell_height": 617,
        "deepnote_cell_type": "code",
        "deepnote_to_be_reexecuted": false,
        "execution_millis": 78,
        "execution_start": 1654829481026,
        "id": "_wemK-ddVR-K",
        "outputId": "19e47862-d494-4db1-c5ad-b06103277274",
        "source_hash": "4d914004",
        "tags": []
      },
      "outputs": [
        {
          "data": {
            "text/html": [
              "<div>\n",
              "<style scoped>\n",
              "    .dataframe tbody tr th:only-of-type {\n",
              "        vertical-align: middle;\n",
              "    }\n",
              "\n",
              "    .dataframe tbody tr th {\n",
              "        vertical-align: top;\n",
              "    }\n",
              "\n",
              "    .dataframe thead th {\n",
              "        text-align: right;\n",
              "    }\n",
              "</style>\n",
              "<table border=\"1\" class=\"dataframe\">\n",
              "  <thead>\n",
              "    <tr style=\"text-align: right;\">\n",
              "      <th></th>\n",
              "      <th>tit_do_filme</th>\n",
              "      <th>dt_lancamento</th>\n",
              "      <th>genero</th>\n",
              "      <th>classificacao_mpaa</th>\n",
              "      <th>bilheteria_bruta</th>\n",
              "      <th>bilheteria_ajustada_inflacao</th>\n",
              "    </tr>\n",
              "  </thead>\n",
              "  <tbody>\n",
              "    <tr>\n",
              "      <th>0</th>\n",
              "      <td>Snow White and the Seven Dwarfs</td>\n",
              "      <td>1937-12-21</td>\n",
              "      <td>Musical</td>\n",
              "      <td>G</td>\n",
              "      <td>184925485</td>\n",
              "      <td>5228953251</td>\n",
              "    </tr>\n",
              "    <tr>\n",
              "      <th>1</th>\n",
              "      <td>Pinocchio</td>\n",
              "      <td>1940-02-09</td>\n",
              "      <td>Adventure</td>\n",
              "      <td>G</td>\n",
              "      <td>84300000</td>\n",
              "      <td>2188229052</td>\n",
              "    </tr>\n",
              "    <tr>\n",
              "      <th>2</th>\n",
              "      <td>Fantasia</td>\n",
              "      <td>1940-11-13</td>\n",
              "      <td>Musical</td>\n",
              "      <td>G</td>\n",
              "      <td>83320000</td>\n",
              "      <td>2187090808</td>\n",
              "    </tr>\n",
              "    <tr>\n",
              "      <th>3</th>\n",
              "      <td>Song of the South</td>\n",
              "      <td>1946-11-12</td>\n",
              "      <td>Adventure</td>\n",
              "      <td>G</td>\n",
              "      <td>65000000</td>\n",
              "      <td>1078510579</td>\n",
              "    </tr>\n",
              "    <tr>\n",
              "      <th>4</th>\n",
              "      <td>Cinderella</td>\n",
              "      <td>1950-02-15</td>\n",
              "      <td>Drama</td>\n",
              "      <td>G</td>\n",
              "      <td>85000000</td>\n",
              "      <td>920608730</td>\n",
              "    </tr>\n",
              "    <tr>\n",
              "      <th>...</th>\n",
              "      <td>...</td>\n",
              "      <td>...</td>\n",
              "      <td>...</td>\n",
              "      <td>...</td>\n",
              "      <td>...</td>\n",
              "      <td>...</td>\n",
              "    </tr>\n",
              "    <tr>\n",
              "      <th>574</th>\n",
              "      <td>The Light Between Oceans</td>\n",
              "      <td>2016-09-02</td>\n",
              "      <td>Drama</td>\n",
              "      <td>PG-13</td>\n",
              "      <td>12545979</td>\n",
              "      <td>12545979</td>\n",
              "    </tr>\n",
              "    <tr>\n",
              "      <th>575</th>\n",
              "      <td>Queen of Katwe</td>\n",
              "      <td>2016-09-23</td>\n",
              "      <td>Drama</td>\n",
              "      <td>PG</td>\n",
              "      <td>8874389</td>\n",
              "      <td>8874389</td>\n",
              "    </tr>\n",
              "    <tr>\n",
              "      <th>576</th>\n",
              "      <td>Doctor Strange</td>\n",
              "      <td>2016-11-04</td>\n",
              "      <td>Adventure</td>\n",
              "      <td>PG-13</td>\n",
              "      <td>232532923</td>\n",
              "      <td>232532923</td>\n",
              "    </tr>\n",
              "    <tr>\n",
              "      <th>577</th>\n",
              "      <td>Moana</td>\n",
              "      <td>2016-11-23</td>\n",
              "      <td>Adventure</td>\n",
              "      <td>PG</td>\n",
              "      <td>246082029</td>\n",
              "      <td>246082029</td>\n",
              "    </tr>\n",
              "    <tr>\n",
              "      <th>578</th>\n",
              "      <td>Rogue One: A Star Wars Story</td>\n",
              "      <td>2016-12-16</td>\n",
              "      <td>Adventure</td>\n",
              "      <td>PG-13</td>\n",
              "      <td>529483936</td>\n",
              "      <td>529483936</td>\n",
              "    </tr>\n",
              "  </tbody>\n",
              "</table>\n",
              "<p>579 rows × 6 columns</p>\n",
              "</div>"
            ],
            "text/plain": [
              "                        tit_do_filme dt_lancamento     genero  \\\n",
              "0    Snow White and the Seven Dwarfs    1937-12-21    Musical   \n",
              "1                          Pinocchio    1940-02-09  Adventure   \n",
              "2                           Fantasia    1940-11-13    Musical   \n",
              "3                  Song of the South    1946-11-12  Adventure   \n",
              "4                         Cinderella    1950-02-15      Drama   \n",
              "..                               ...           ...        ...   \n",
              "574         The Light Between Oceans    2016-09-02      Drama   \n",
              "575                   Queen of Katwe    2016-09-23      Drama   \n",
              "576                   Doctor Strange    2016-11-04  Adventure   \n",
              "577                            Moana    2016-11-23  Adventure   \n",
              "578     Rogue One: A Star Wars Story    2016-12-16  Adventure   \n",
              "\n",
              "    classificacao_mpaa  bilheteria_bruta  bilheteria_ajustada_inflacao  \n",
              "0                    G         184925485                    5228953251  \n",
              "1                    G          84300000                    2188229052  \n",
              "2                    G          83320000                    2187090808  \n",
              "3                    G          65000000                    1078510579  \n",
              "4                    G          85000000                     920608730  \n",
              "..                 ...               ...                           ...  \n",
              "574              PG-13          12545979                      12545979  \n",
              "575                 PG           8874389                       8874389  \n",
              "576              PG-13         232532923                     232532923  \n",
              "577                 PG         246082029                     246082029  \n",
              "578              PG-13         529483936                     529483936  \n",
              "\n",
              "[579 rows x 6 columns]"
            ]
          },
          "execution_count": 81,
          "metadata": {},
          "output_type": "execute_result"
        }
      ],
      "source": [
        "data_ordenada"
      ]
    },
    {
      "cell_type": "markdown",
      "id": "RVJCq4wKVR-L",
      "metadata": {
        "cell_id": "00033-eebedda0-f1ca-4d04-a673-6adc6ebe9432",
        "deepnote_cell_height": 74.78125,
        "deepnote_cell_type": "markdown",
        "id": "RVJCq4wKVR-L"
      },
      "source": [
        "Obtenando a soma cumulativa da bilheteria_ajustada_inflacao, e adicionando ao dataset com o nome de bilheteria_milionaria"
      ]
    },
    {
      "cell_type": "code",
      "execution_count": 82,
      "id": "1Zs4XnW1VR-L",
      "metadata": {
        "cell_id": "00034-1809e8f4-a8a4-4b8a-b9e7-703447ac0dff",
        "deepnote_cell_height": 81,
        "deepnote_cell_type": "code",
        "deepnote_to_be_reexecuted": false,
        "execution_millis": 4,
        "execution_start": 1654829577125,
        "id": "1Zs4XnW1VR-L",
        "source_hash": "ce9c4204"
      },
      "outputs": [],
      "source": [
        "dados['bilheteria_milionaria'] = dados['bilheteria_ajustada_inflacao'].cumsum()"
      ]
    },
    {
      "cell_type": "code",
      "execution_count": 83,
      "id": "9GaQI7E9VR-M",
      "metadata": {
        "cell_id": "00036-9a860f24-08b4-4b89-857d-dbade4af9fa8",
        "deepnote_cell_height": 329.25,
        "deepnote_cell_type": "code",
        "deepnote_output_heights": [
          232.25
        ],
        "deepnote_to_be_reexecuted": false,
        "execution_millis": 26,
        "execution_start": 1654829617129,
        "id": "9GaQI7E9VR-M",
        "outputId": "b47864c5-b10d-49f7-f936-a5dc4df6ccb8",
        "source_hash": "811b1934"
      },
      "outputs": [
        {
          "data": {
            "text/plain": [
              "0       5228953251\n",
              "1       7417182303\n",
              "2       9604273111\n",
              "3      10682783690\n",
              "4      11603392420\n",
              "          ...     \n",
              "574    67746527720\n",
              "575    67755402109\n",
              "576    67987935032\n",
              "577    68234017061\n",
              "578    68763500997\n",
              "Name: bilheteria_milionaria, Length: 579, dtype: int64"
            ]
          },
          "execution_count": 83,
          "metadata": {},
          "output_type": "execute_result"
        }
      ],
      "source": [
        "dados['bilheteria_milionaria']"
      ]
    },
    {
      "cell_type": "markdown",
      "id": "jq9WxvvWVR-M",
      "metadata": {
        "cell_id": "00037-e4181fb8-76d8-49f9-afb9-5c2e5c4f4d3a",
        "deepnote_cell_height": 52.390625,
        "deepnote_cell_type": "markdown",
        "id": "jq9WxvvWVR-M"
      },
      "source": [
        "Selecionando os filmes de aventura e atribuindo a uma variável chamada filmes_aventura"
      ]
    },
    {
      "cell_type": "code",
      "execution_count": 84,
      "id": "MG1FZBHxVR-N",
      "metadata": {
        "cell_id": "fdf2de70bd2847ce8c344856e513a576",
        "deepnote_cell_height": 81,
        "deepnote_cell_type": "code",
        "deepnote_to_be_reexecuted": false,
        "execution_millis": 11,
        "execution_start": 1654829721833,
        "id": "MG1FZBHxVR-N",
        "source_hash": "3819ea3f",
        "tags": []
      },
      "outputs": [],
      "source": [
        "filmes_aventura = dados.loc[dados['genero']== 'Adventure']"
      ]
    },
    {
      "cell_type": "code",
      "execution_count": 85,
      "id": "QNOxJO3cVR-O",
      "metadata": {
        "cell_id": "00040-c4e0a25a-6fd7-4576-913c-d6dbe63caa24",
        "deepnote_cell_height": 412,
        "deepnote_cell_type": "code",
        "deepnote_to_be_reexecuted": false,
        "execution_millis": 80,
        "execution_start": 1654829740017,
        "id": "QNOxJO3cVR-O",
        "outputId": "e3a0e882-14c7-4528-ad03-bd93cec05547",
        "source_hash": "fb9bedc7"
      },
      "outputs": [
        {
          "data": {
            "text/html": [
              "<div>\n",
              "<style scoped>\n",
              "    .dataframe tbody tr th:only-of-type {\n",
              "        vertical-align: middle;\n",
              "    }\n",
              "\n",
              "    .dataframe tbody tr th {\n",
              "        vertical-align: top;\n",
              "    }\n",
              "\n",
              "    .dataframe thead th {\n",
              "        text-align: right;\n",
              "    }\n",
              "</style>\n",
              "<table border=\"1\" class=\"dataframe\">\n",
              "  <thead>\n",
              "    <tr style=\"text-align: right;\">\n",
              "      <th></th>\n",
              "      <th>tit_do_filme</th>\n",
              "      <th>dt_lancamento</th>\n",
              "      <th>genero</th>\n",
              "      <th>classificacao_mpaa</th>\n",
              "      <th>bilheteria_bruta</th>\n",
              "      <th>bilheteria_ajustada_inflacao</th>\n",
              "      <th>bilheteria_milionaria</th>\n",
              "    </tr>\n",
              "  </thead>\n",
              "  <tbody>\n",
              "    <tr>\n",
              "      <th>1</th>\n",
              "      <td>Pinocchio</td>\n",
              "      <td>1940-02-09</td>\n",
              "      <td>Adventure</td>\n",
              "      <td>G</td>\n",
              "      <td>84300000</td>\n",
              "      <td>2188229052</td>\n",
              "      <td>7417182303</td>\n",
              "    </tr>\n",
              "    <tr>\n",
              "      <th>3</th>\n",
              "      <td>Song of the South</td>\n",
              "      <td>1946-11-12</td>\n",
              "      <td>Adventure</td>\n",
              "      <td>G</td>\n",
              "      <td>65000000</td>\n",
              "      <td>1078510579</td>\n",
              "      <td>10682783690</td>\n",
              "    </tr>\n",
              "    <tr>\n",
              "      <th>5</th>\n",
              "      <td>20,000 Leagues Under the Sea</td>\n",
              "      <td>1954-12-23</td>\n",
              "      <td>Adventure</td>\n",
              "      <td>NaN</td>\n",
              "      <td>28200000</td>\n",
              "      <td>528279994</td>\n",
              "      <td>12131672414</td>\n",
              "    </tr>\n",
              "    <tr>\n",
              "      <th>12</th>\n",
              "      <td>The Sword in the Stone</td>\n",
              "      <td>1963-12-25</td>\n",
              "      <td>Adventure</td>\n",
              "      <td>NaN</td>\n",
              "      <td>22182353</td>\n",
              "      <td>153870834</td>\n",
              "      <td>15450472960</td>\n",
              "    </tr>\n",
              "    <tr>\n",
              "      <th>21</th>\n",
              "      <td>The Rescuers</td>\n",
              "      <td>1977-06-22</td>\n",
              "      <td>Adventure</td>\n",
              "      <td>NaN</td>\n",
              "      <td>48775599</td>\n",
              "      <td>159743914</td>\n",
              "      <td>17215424200</td>\n",
              "    </tr>\n",
              "  </tbody>\n",
              "</table>\n",
              "</div>"
            ],
            "text/plain": [
              "                    tit_do_filme dt_lancamento     genero classificacao_mpaa  \\\n",
              "1                      Pinocchio    1940-02-09  Adventure                  G   \n",
              "3              Song of the South    1946-11-12  Adventure                  G   \n",
              "5   20,000 Leagues Under the Sea    1954-12-23  Adventure                NaN   \n",
              "12        The Sword in the Stone    1963-12-25  Adventure                NaN   \n",
              "21                  The Rescuers    1977-06-22  Adventure                NaN   \n",
              "\n",
              "    bilheteria_bruta  bilheteria_ajustada_inflacao  bilheteria_milionaria  \n",
              "1           84300000                    2188229052             7417182303  \n",
              "3           65000000                    1078510579            10682783690  \n",
              "5           28200000                     528279994            12131672414  \n",
              "12          22182353                     153870834            15450472960  \n",
              "21          48775599                     159743914            17215424200  "
            ]
          },
          "execution_count": 85,
          "metadata": {},
          "output_type": "execute_result"
        }
      ],
      "source": [
        "filmes_aventura.head()"
      ]
    },
    {
      "cell_type": "markdown",
      "id": "ztDpjlacVR-O",
      "metadata": {
        "cell_id": "00041-6df049dc-8105-4185-9f58-831c3595d032",
        "deepnote_cell_height": 52.390625,
        "deepnote_cell_type": "markdown",
        "id": "ztDpjlacVR-O"
      },
      "source": [
        "Contando o número de filmes por genero e ordenando"
      ]
    },
    {
      "cell_type": "code",
      "execution_count": 86,
      "id": "nP0oNPlRVR-P",
      "metadata": {
        "cell_id": "00042-17872ce1-a3fb-4af0-ab65-62f6428f0b22",
        "deepnote_cell_height": 348.4375,
        "deepnote_cell_type": "code",
        "deepnote_output_heights": [
          251.4375
        ],
        "deepnote_to_be_reexecuted": false,
        "execution_millis": 10,
        "execution_start": 1654829902780,
        "id": "nP0oNPlRVR-P",
        "outputId": "f24f1da8-0092-46d9-e727-325c0eed65f0",
        "source_hash": "f9d8e17b"
      },
      "outputs": [
        {
          "data": {
            "text/plain": [
              "Comedy                 182\n",
              "Adventure              129\n",
              "Drama                  114\n",
              "Action                  40\n",
              "Thriller/Suspense       24\n",
              "Romantic Comedy         23\n",
              "Musical                 16\n",
              "Documentary             16\n",
              "Western                  7\n",
              "Horror                   6\n",
              "Black Comedy             3\n",
              "Concert/Performance      2\n",
              "Name: genero, dtype: int64"
            ]
          },
          "execution_count": 86,
          "metadata": {},
          "output_type": "execute_result"
        }
      ],
      "source": [
        "dados['genero'].value_counts(ascending=False)"
      ]
    },
    {
      "cell_type": "markdown",
      "id": "hPoBwk-zVR-P",
      "metadata": {
        "cell_id": "00043-c9d1acea-177d-4c09-9010-e522d34ecfa9",
        "deepnote_cell_height": 52.390625,
        "deepnote_cell_type": "markdown",
        "id": "hPoBwk-zVR-P"
      },
      "source": [
        "Calculando a proporção de filmes por genero e ordenando"
      ]
    },
    {
      "cell_type": "code",
      "execution_count": 87,
      "id": "GYDSOKs5VR-Q",
      "metadata": {
        "cell_id": "a5c160d4fb734b1da56a54b07b66f0d8",
        "deepnote_cell_height": 81,
        "deepnote_cell_type": "code",
        "deepnote_to_be_reexecuted": false,
        "execution_millis": 0,
        "execution_start": 1654830023947,
        "id": "GYDSOKs5VR-Q",
        "source_hash": "aa1f447e",
        "tags": []
      },
      "outputs": [
        {
          "data": {
            "text/plain": [
              "Comedy                 32.384342\n",
              "Adventure              22.953737\n",
              "Drama                  20.284698\n",
              "Action                  7.117438\n",
              "Thriller/Suspense       4.270463\n",
              "Romantic Comedy         4.092527\n",
              "Musical                 2.846975\n",
              "Documentary             2.846975\n",
              "Western                 1.245552\n",
              "Horror                  1.067616\n",
              "Black Comedy            0.533808\n",
              "Concert/Performance     0.355872\n",
              "Name: genero, dtype: float64"
            ]
          },
          "execution_count": 87,
          "metadata": {},
          "output_type": "execute_result"
        }
      ],
      "source": [
        "dados['genero'].value_counts(normalize=True)*100"
      ]
    },
    {
      "cell_type": "markdown",
      "id": "zbjIrHguVR-Q",
      "metadata": {
        "cell_id": "00045-31d4d50a-4e7b-46a0-9db7-2a86548bbe1a",
        "deepnote_cell_height": 52.390625,
        "deepnote_cell_type": "markdown",
        "id": "zbjIrHguVR-Q"
      },
      "source": [
        "Estatísticas resumidas agrupadas"
      ]
    },
    {
      "cell_type": "markdown",
      "id": "XUhObOcZVR-R",
      "metadata": {
        "cell_id": "00046-1c04cd1e-ff95-4424-ae76-da6b316648e2",
        "deepnote_cell_height": 52.390625,
        "deepnote_cell_type": "markdown",
        "id": "XUhObOcZVR-R"
      },
      "source": [
        "Total da \"bilheteria_bruta\""
      ]
    },
    {
      "cell_type": "code",
      "execution_count": 88,
      "id": "ekr0wGIQVR-R",
      "metadata": {
        "cell_id": "00047-a8582f6a-b63f-4018-a24d-48d40538e1f6",
        "deepnote_cell_height": 118.1875,
        "deepnote_cell_type": "code",
        "deepnote_output_heights": [
          21.1875
        ],
        "deepnote_to_be_reexecuted": false,
        "execution_millis": 2,
        "execution_start": 1654830075444,
        "id": "ekr0wGIQVR-R",
        "outputId": "154c1ab8-918b-49c6-b359-72aa01ef85f6",
        "source_hash": "dc2d720c"
      },
      "outputs": [
        {
          "data": {
            "text/plain": [
              "37462335553"
            ]
          },
          "execution_count": 88,
          "metadata": {},
          "output_type": "execute_result"
        }
      ],
      "source": [
        "dados['bilheteria_bruta'].sum()"
      ]
    },
    {
      "cell_type": "markdown",
      "id": "AUhPArRyVR-S",
      "metadata": {
        "cell_id": "00050-fb636def-f240-4225-995b-77a53ac4321b",
        "deepnote_cell_height": 52.390625,
        "deepnote_cell_type": "markdown",
        "id": "AUhPArRyVR-S"
      },
      "source": [
        "Calculando o total da bilheteria_bruta pelo genero 'Drama'"
      ]
    },
    {
      "cell_type": "code",
      "execution_count": 89,
      "id": "mcnMpxnTVR-S",
      "metadata": {
        "cell_id": "00051-924e259e-c03f-4c34-add9-96e90297cfd0",
        "deepnote_cell_height": 118.1875,
        "deepnote_cell_type": "code",
        "deepnote_output_heights": [
          21.1875
        ],
        "deepnote_to_be_reexecuted": false,
        "execution_millis": 19,
        "execution_start": 1654830276932,
        "id": "mcnMpxnTVR-S",
        "outputId": "29f7b55c-aab6-4507-9a58-8c7f87e313a3",
        "source_hash": "ed8c556b"
      },
      "outputs": [
        {
          "data": {
            "text/plain": [
              "4106972970"
            ]
          },
          "execution_count": 89,
          "metadata": {},
          "output_type": "execute_result"
        }
      ],
      "source": [
        "dados.loc[dados['genero']==\"Drama\"]['bilheteria_bruta'].sum()"
      ]
    },
    {
      "cell_type": "markdown",
      "id": "KDE61eu2VR-T",
      "metadata": {
        "cell_id": "00052-3139a675-4b84-421a-a60b-2891832cf266",
        "deepnote_cell_height": 52.390625,
        "deepnote_cell_type": "markdown",
        "id": "KDE61eu2VR-T"
      },
      "source": [
        "Total da bilheteria_bruta pelo genero Comedia 'Comedy'"
      ]
    },
    {
      "cell_type": "code",
      "execution_count": 90,
      "id": "saK7h7vlVR-T",
      "metadata": {
        "cell_id": "00053-1bccc34a-2a17-4bb0-9eb4-df9a336b460d",
        "deepnote_cell_height": 214.125,
        "deepnote_cell_type": "code",
        "deepnote_output_heights": [
          117.125
        ],
        "deepnote_to_be_reexecuted": false,
        "execution_millis": 31,
        "execution_start": 1654830457197,
        "id": "saK7h7vlVR-T",
        "outputId": "8863c062-f8cf-43fc-a072-2ff27d2efcee",
        "source_hash": "8d05d189"
      },
      "outputs": [
        {
          "data": {
            "text/plain": [
              "8119619678"
            ]
          },
          "execution_count": 90,
          "metadata": {},
          "output_type": "execute_result"
        }
      ],
      "source": [
        "dados.loc[dados['genero']==\"Comedy\"]['bilheteria_bruta'].sum()"
      ]
    },
    {
      "cell_type": "code",
      "execution_count": 91,
      "id": "Z-F3Cs6OVR-T",
      "metadata": {
        "cell_id": "f91be204183341e5ac53cbef748e6443",
        "deepnote_cell_height": 118.1875,
        "deepnote_cell_type": "code",
        "deepnote_output_heights": [
          21.1875
        ],
        "deepnote_to_be_reexecuted": false,
        "execution_millis": 17,
        "execution_start": 1654830483837,
        "id": "Z-F3Cs6OVR-T",
        "outputId": "c9e09dde-749f-45ee-b8ff-1b441cb135d2",
        "source_hash": "e3ac4611",
        "tags": []
      },
      "outputs": [
        {
          "data": {
            "text/plain": [
              "8119619678"
            ]
          },
          "execution_count": 91,
          "metadata": {},
          "output_type": "execute_result"
        }
      ],
      "source": [
        "dados.loc[dados['genero'] == 'Comedy']['bilheteria_bruta'].sum()"
      ]
    },
    {
      "cell_type": "markdown",
      "id": "saDbSgWzVR-T",
      "metadata": {
        "cell_id": "00054-7a233ea8-809b-49a9-ac10-777a2489144f",
        "deepnote_cell_height": 52.390625,
        "deepnote_cell_type": "markdown",
        "id": "saDbSgWzVR-T"
      },
      "source": [
        "Total da bilheteria_bruta pelo genero Ação 'Action'"
      ]
    },
    {
      "cell_type": "code",
      "execution_count": 92,
      "id": "iwXOr2_8VR-U",
      "metadata": {
        "cell_id": "00055-7eff1b58-ca5e-4c84-8f5a-6b98b9bd2b9b",
        "deepnote_cell_height": 214.125,
        "deepnote_cell_type": "code",
        "deepnote_output_heights": [
          117.125
        ],
        "deepnote_to_be_reexecuted": false,
        "execution_millis": 35,
        "execution_start": 1654830511362,
        "id": "iwXOr2_8VR-U",
        "outputId": "361d8e85-1377-4ddf-fcfc-2cb29741c39a",
        "source_hash": "96fe66ea"
      },
      "outputs": [
        {
          "data": {
            "text/plain": [
              "4184563282"
            ]
          },
          "execution_count": 92,
          "metadata": {},
          "output_type": "execute_result"
        }
      ],
      "source": [
        "dados.loc[dados['genero'] == 'Action']['bilheteria_bruta'].sum()"
      ]
    },
    {
      "cell_type": "markdown",
      "id": "qqexyAvZVR-U",
      "metadata": {
        "cell_id": "00056-c192553c-6644-4a9f-a3f9-1c977b1a2831",
        "deepnote_cell_height": 52.390625,
        "deepnote_cell_type": "markdown",
        "id": "qqexyAvZVR-U"
      },
      "source": [
        "Obtendo a proporção da bilheteria_bruta para os três generos acima."
      ]
    },
    {
      "cell_type": "code",
      "execution_count": 93,
      "id": "fBAzPKR_VR-V",
      "metadata": {
        "cell_id": "00057-22988fc5-bcf4-4873-86f3-e2cfd7715e3f",
        "deepnote_cell_height": 81,
        "deepnote_cell_type": "code",
        "deepnote_to_be_reexecuted": false,
        "execution_millis": 0,
        "execution_start": 1654831511694,
        "id": "fBAzPKR_VR-V",
        "source_hash": "d8ff9aac"
      },
      "outputs": [],
      "source": [
        "tres_generos = dados.loc[(dados['genero'] == 'Action') | (dados['genero'] == 'Comedy') | (dados['genero'] == 'Drama')]"
      ]
    },
    {
      "cell_type": "code",
      "execution_count": 94,
      "id": "O1YrwjJ1VR-V",
      "metadata": {
        "cell_id": "276ed26d96744ca0aeca1544722dfc52",
        "deepnote_cell_height": 412,
        "deepnote_cell_type": "code",
        "deepnote_output_heights": [
          21.1875
        ],
        "deepnote_to_be_reexecuted": false,
        "execution_millis": 46,
        "execution_start": 1654831678714,
        "id": "O1YrwjJ1VR-V",
        "outputId": "3fd38b11-4ef9-4b92-e09f-49911a2d2f94",
        "source_hash": "afe81c64",
        "tags": []
      },
      "outputs": [
        {
          "data": {
            "text/plain": [
              "array(['Drama', 'Comedy', 'Action'], dtype=object)"
            ]
          },
          "execution_count": 94,
          "metadata": {},
          "output_type": "execute_result"
        }
      ],
      "source": [
        "tres_generos['genero'].unique()"
      ]
    },
    {
      "cell_type": "code",
      "execution_count": 95,
      "id": "DumWtXpaVR-V",
      "metadata": {
        "cell_id": "386bed71572046bc9877f4149ef656c5",
        "deepnote_cell_height": 175.75,
        "deepnote_cell_type": "code",
        "deepnote_output_heights": [
          78.75
        ],
        "deepnote_to_be_reexecuted": false,
        "execution_millis": 723,
        "execution_start": 1654831685843,
        "id": "DumWtXpaVR-V",
        "outputId": "f373b094-1951-4685-f5c6-c9570e4b360c",
        "source_hash": "fabdd51b",
        "tags": []
      },
      "outputs": [
        {
          "data": {
            "text/plain": [
              "Comedy    54.166667\n",
              "Drama     33.928571\n",
              "Action    11.904762\n",
              "Name: genero, dtype: float64"
            ]
          },
          "execution_count": 95,
          "metadata": {},
          "output_type": "execute_result"
        }
      ],
      "source": [
        "tres_generos['genero'].value_counts(normalize=True)*100"
      ]
    },
    {
      "cell_type": "markdown",
      "id": "_TpOAIgQVR-V",
      "metadata": {
        "cell_id": "00060-fff5787a-4666-4478-a7c4-2967acdb2f24",
        "deepnote_cell_height": 111.171875,
        "deepnote_cell_type": "markdown",
        "id": "_TpOAIgQVR-V"
      },
      "source": [
        "23 - Para cada genero de filme, agregue a bilheteria_bruta obtendo min, max, média e mediana e imprima o resultado\n",
        "\n",
        "Dica: use numpy para as estatísticas"
      ]
    },
    {
      "cell_type": "code",
      "execution_count": 96,
      "id": "mJiHJ-aEVR-W",
      "metadata": {
        "cell_id": "00061-376ba64c-3c1a-4a6e-894c-77c84f252d05",
        "deepnote_cell_height": 403.625,
        "deepnote_cell_type": "code",
        "deepnote_output_heights": [
          270.625
        ],
        "deepnote_to_be_reexecuted": false,
        "execution_millis": 432,
        "execution_start": 1654832736936,
        "id": "mJiHJ-aEVR-W",
        "outputId": "2255c8a3-f98d-42b7-f2ee-27a3af5820e1",
        "source_hash": "269f552a"
      },
      "outputs": [
        {
          "data": {
            "text/plain": [
              "genero\n",
              "Action                 623279547\n",
              "Adventure              936662225\n",
              "Black Comedy            52353636\n",
              "Comedy                 244082982\n",
              "Concert/Performance     65281781\n",
              "Documentary             32011576\n",
              "Drama                  201151353\n",
              "Horror                  26570463\n",
              "Musical                218951625\n",
              "Romantic Comedy        178406268\n",
              "Thriller/Suspense      293506292\n",
              "Western                 89302115\n",
              "Name: bilheteria_bruta, dtype: int64"
            ]
          },
          "execution_count": 96,
          "metadata": {},
          "output_type": "execute_result"
        }
      ],
      "source": [
        "#tentando por groupby\n",
        "dados.groupby(['genero'])['bilheteria_bruta'].max()\n"
      ]
    },
    {
      "cell_type": "code",
      "execution_count": 97,
      "id": "T2auoxFoVR-W",
      "metadata": {
        "cell_id": "ed14fcc93bb84aac89883f36a7572b55",
        "deepnote_cell_height": 154.1875,
        "deepnote_cell_type": "code",
        "deepnote_output_heights": [
          21.1875
        ],
        "deepnote_to_be_reexecuted": false,
        "execution_millis": 430,
        "execution_start": 1654832781713,
        "id": "T2auoxFoVR-W",
        "outputId": "29de415e-18c9-4e6d-ea9c-ffe06a072d5e",
        "source_hash": "cefa2fd5",
        "tags": []
      },
      "outputs": [
        {
          "data": {
            "text/plain": [
              "936662225"
            ]
          },
          "execution_count": 97,
          "metadata": {},
          "output_type": "execute_result"
        }
      ],
      "source": [
        "#confirmando o valor máximo\n",
        "dados['bilheteria_bruta'].max()\n"
      ]
    },
    {
      "cell_type": "code",
      "execution_count": 98,
      "id": "V9mOvn88VR-W",
      "metadata": {
        "cell_id": "d1ce4833e25746338f171a3453db0c3c",
        "deepnote_cell_height": 636,
        "deepnote_cell_type": "code",
        "deepnote_to_be_reexecuted": false,
        "execution_millis": 104,
        "execution_start": 1654833228760,
        "id": "V9mOvn88VR-W",
        "outputId": "bbf1e956-c3c5-4019-8ea9-1de82313d8b3",
        "source_hash": "703ade89",
        "tags": []
      },
      "outputs": [
        {
          "data": {
            "text/html": [
              "<div>\n",
              "<style scoped>\n",
              "    .dataframe tbody tr th:only-of-type {\n",
              "        vertical-align: middle;\n",
              "    }\n",
              "\n",
              "    .dataframe tbody tr th {\n",
              "        vertical-align: top;\n",
              "    }\n",
              "\n",
              "    .dataframe thead tr th {\n",
              "        text-align: left;\n",
              "    }\n",
              "\n",
              "    .dataframe thead tr:last-of-type th {\n",
              "        text-align: right;\n",
              "    }\n",
              "</style>\n",
              "<table border=\"1\" class=\"dataframe\">\n",
              "  <thead>\n",
              "    <tr>\n",
              "      <th></th>\n",
              "      <th colspan=\"4\" halign=\"left\">bilheteria_bruta</th>\n",
              "    </tr>\n",
              "    <tr>\n",
              "      <th></th>\n",
              "      <th>min</th>\n",
              "      <th>max</th>\n",
              "      <th>mean</th>\n",
              "      <th>median</th>\n",
              "    </tr>\n",
              "    <tr>\n",
              "      <th>genero</th>\n",
              "      <th></th>\n",
              "      <th></th>\n",
              "      <th></th>\n",
              "      <th></th>\n",
              "    </tr>\n",
              "  </thead>\n",
              "  <tbody>\n",
              "    <tr>\n",
              "      <th>Action</th>\n",
              "      <td>0</td>\n",
              "      <td>623279547</td>\n",
              "      <td>1.046141e+08</td>\n",
              "      <td>43315244.5</td>\n",
              "    </tr>\n",
              "    <tr>\n",
              "      <th>Adventure</th>\n",
              "      <td>2815</td>\n",
              "      <td>936662225</td>\n",
              "      <td>1.270471e+08</td>\n",
              "      <td>65000000.0</td>\n",
              "    </tr>\n",
              "    <tr>\n",
              "      <th>Black Comedy</th>\n",
              "      <td>17105219</td>\n",
              "      <td>52353636</td>\n",
              "      <td>3.251440e+07</td>\n",
              "      <td>28084357.0</td>\n",
              "    </tr>\n",
              "    <tr>\n",
              "      <th>Comedy</th>\n",
              "      <td>45779</td>\n",
              "      <td>244082982</td>\n",
              "      <td>4.461329e+07</td>\n",
              "      <td>26923500.5</td>\n",
              "    </tr>\n",
              "    <tr>\n",
              "      <th>Concert/Performance</th>\n",
              "      <td>38174685</td>\n",
              "      <td>65281781</td>\n",
              "      <td>5.172823e+07</td>\n",
              "      <td>51728233.0</td>\n",
              "    </tr>\n",
              "    <tr>\n",
              "      <th>Documentary</th>\n",
              "      <td>20521</td>\n",
              "      <td>32011576</td>\n",
              "      <td>1.129285e+07</td>\n",
              "      <td>9688331.0</td>\n",
              "    </tr>\n",
              "    <tr>\n",
              "      <th>Drama</th>\n",
              "      <td>0</td>\n",
              "      <td>201151353</td>\n",
              "      <td>3.602608e+07</td>\n",
              "      <td>19730097.0</td>\n",
              "    </tr>\n",
              "    <tr>\n",
              "      <th>Horror</th>\n",
              "      <td>4877567</td>\n",
              "      <td>26570463</td>\n",
              "      <td>1.451148e+07</td>\n",
              "      <td>13439137.5</td>\n",
              "    </tr>\n",
              "    <tr>\n",
              "      <th>Musical</th>\n",
              "      <td>5632086</td>\n",
              "      <td>218951625</td>\n",
              "      <td>7.233026e+07</td>\n",
              "      <td>53041787.5</td>\n",
              "    </tr>\n",
              "    <tr>\n",
              "      <th>Romantic Comedy</th>\n",
              "      <td>468240</td>\n",
              "      <td>178406268</td>\n",
              "      <td>5.009595e+07</td>\n",
              "      <td>32680633.0</td>\n",
              "    </tr>\n",
              "    <tr>\n",
              "      <th>Thriller/Suspense</th>\n",
              "      <td>2154540</td>\n",
              "      <td>293506292</td>\n",
              "      <td>5.861694e+07</td>\n",
              "      <td>28153827.0</td>\n",
              "    </tr>\n",
              "    <tr>\n",
              "      <th>Western</th>\n",
              "      <td>8247627</td>\n",
              "      <td>89302115</td>\n",
              "      <td>5.128735e+07</td>\n",
              "      <td>56932305.0</td>\n",
              "    </tr>\n",
              "  </tbody>\n",
              "</table>\n",
              "</div>"
            ],
            "text/plain": [
              "                    bilheteria_bruta                                     \n",
              "                                 min        max          mean      median\n",
              "genero                                                                   \n",
              "Action                             0  623279547  1.046141e+08  43315244.5\n",
              "Adventure                       2815  936662225  1.270471e+08  65000000.0\n",
              "Black Comedy                17105219   52353636  3.251440e+07  28084357.0\n",
              "Comedy                         45779  244082982  4.461329e+07  26923500.5\n",
              "Concert/Performance         38174685   65281781  5.172823e+07  51728233.0\n",
              "Documentary                    20521   32011576  1.129285e+07   9688331.0\n",
              "Drama                              0  201151353  3.602608e+07  19730097.0\n",
              "Horror                       4877567   26570463  1.451148e+07  13439137.5\n",
              "Musical                      5632086  218951625  7.233026e+07  53041787.5\n",
              "Romantic Comedy               468240  178406268  5.009595e+07  32680633.0\n",
              "Thriller/Suspense            2154540  293506292  5.861694e+07  28153827.0\n",
              "Western                      8247627   89302115  5.128735e+07  56932305.0"
            ]
          },
          "execution_count": 98,
          "metadata": {},
          "output_type": "execute_result"
        }
      ],
      "source": [
        "#usando a função agg\n",
        "resumo1 = dados.groupby('genero').agg({'bilheteria_bruta':['min', 'max', 'mean', 'median']})\n",
        "resumo1"
      ]
    },
    {
      "cell_type": "markdown",
      "id": "tLz5lGgaVR-W",
      "metadata": {
        "cell_id": "00062-d27ce006-2119-4574-96a3-96dacaf165a9",
        "deepnote_cell_height": 74.78125,
        "deepnote_cell_type": "markdown",
        "id": "tLz5lGgaVR-W"
      },
      "source": [
        "24 - Para cada genero de filme, agregue bilheteria_bruta e bilheteria_ajustada_inflacao: obtenha o minimo, maximo, média e mediana"
      ]
    },
    {
      "cell_type": "code",
      "execution_count": 99,
      "id": "v55mTTK3VR-X",
      "metadata": {
        "cell_id": "00063-4629140f-844a-4cce-96ff-dd7f3b863c49",
        "deepnote_cell_height": 635,
        "deepnote_cell_type": "code",
        "deepnote_to_be_reexecuted": false,
        "execution_millis": 202,
        "execution_start": 1654833380708,
        "id": "v55mTTK3VR-X",
        "outputId": "99cc8f8f-fb0d-4ad5-ff5c-99db6f9bbd36",
        "source_hash": "91aa01be"
      },
      "outputs": [
        {
          "data": {
            "text/html": [
              "<div>\n",
              "<style scoped>\n",
              "    .dataframe tbody tr th:only-of-type {\n",
              "        vertical-align: middle;\n",
              "    }\n",
              "\n",
              "    .dataframe tbody tr th {\n",
              "        vertical-align: top;\n",
              "    }\n",
              "\n",
              "    .dataframe thead tr th {\n",
              "        text-align: left;\n",
              "    }\n",
              "\n",
              "    .dataframe thead tr:last-of-type th {\n",
              "        text-align: right;\n",
              "    }\n",
              "</style>\n",
              "<table border=\"1\" class=\"dataframe\">\n",
              "  <thead>\n",
              "    <tr>\n",
              "      <th></th>\n",
              "      <th colspan=\"4\" halign=\"left\">bilheteria_bruta</th>\n",
              "      <th colspan=\"4\" halign=\"left\">bilheteria_ajustada_inflacao</th>\n",
              "    </tr>\n",
              "    <tr>\n",
              "      <th></th>\n",
              "      <th>min</th>\n",
              "      <th>max</th>\n",
              "      <th>mean</th>\n",
              "      <th>median</th>\n",
              "      <th>min</th>\n",
              "      <th>max</th>\n",
              "      <th>mean</th>\n",
              "      <th>median</th>\n",
              "    </tr>\n",
              "    <tr>\n",
              "      <th>genero</th>\n",
              "      <th></th>\n",
              "      <th></th>\n",
              "      <th></th>\n",
              "      <th></th>\n",
              "      <th></th>\n",
              "      <th></th>\n",
              "      <th></th>\n",
              "      <th></th>\n",
              "    </tr>\n",
              "  </thead>\n",
              "  <tbody>\n",
              "    <tr>\n",
              "      <th>Action</th>\n",
              "      <td>0</td>\n",
              "      <td>623279547</td>\n",
              "      <td>1.046141e+08</td>\n",
              "      <td>43315244.5</td>\n",
              "      <td>0</td>\n",
              "      <td>660081224</td>\n",
              "      <td>1.374734e+08</td>\n",
              "      <td>69012064.5</td>\n",
              "    </tr>\n",
              "    <tr>\n",
              "      <th>Adventure</th>\n",
              "      <td>2815</td>\n",
              "      <td>936662225</td>\n",
              "      <td>1.270471e+08</td>\n",
              "      <td>65000000.0</td>\n",
              "      <td>2984</td>\n",
              "      <td>2188229052</td>\n",
              "      <td>1.903974e+08</td>\n",
              "      <td>102254492.0</td>\n",
              "    </tr>\n",
              "    <tr>\n",
              "      <th>Black Comedy</th>\n",
              "      <td>17105219</td>\n",
              "      <td>52353636</td>\n",
              "      <td>3.251440e+07</td>\n",
              "      <td>28084357.0</td>\n",
              "      <td>28392518</td>\n",
              "      <td>76758193</td>\n",
              "      <td>5.224349e+07</td>\n",
              "      <td>51579764.0</td>\n",
              "    </tr>\n",
              "    <tr>\n",
              "      <th>Comedy</th>\n",
              "      <td>45779</td>\n",
              "      <td>244082982</td>\n",
              "      <td>4.461329e+07</td>\n",
              "      <td>26923500.5</td>\n",
              "      <td>82277</td>\n",
              "      <td>1362870985</td>\n",
              "      <td>8.466773e+07</td>\n",
              "      <td>51195217.0</td>\n",
              "    </tr>\n",
              "    <tr>\n",
              "      <th>Concert/Performance</th>\n",
              "      <td>38174685</td>\n",
              "      <td>65281781</td>\n",
              "      <td>5.172823e+07</td>\n",
              "      <td>51728233.0</td>\n",
              "      <td>38174685</td>\n",
              "      <td>76646993</td>\n",
              "      <td>5.741084e+07</td>\n",
              "      <td>57410839.0</td>\n",
              "    </tr>\n",
              "    <tr>\n",
              "      <th>Documentary</th>\n",
              "      <td>20521</td>\n",
              "      <td>32011576</td>\n",
              "      <td>1.129285e+07</td>\n",
              "      <td>9688331.0</td>\n",
              "      <td>23064</td>\n",
              "      <td>35981010</td>\n",
              "      <td>1.271803e+07</td>\n",
              "      <td>12344483.5</td>\n",
              "    </tr>\n",
              "    <tr>\n",
              "      <th>Drama</th>\n",
              "      <td>0</td>\n",
              "      <td>201151353</td>\n",
              "      <td>3.602608e+07</td>\n",
              "      <td>19730097.0</td>\n",
              "      <td>0</td>\n",
              "      <td>1236035515</td>\n",
              "      <td>7.189302e+07</td>\n",
              "      <td>39325794.0</td>\n",
              "    </tr>\n",
              "    <tr>\n",
              "      <th>Horror</th>\n",
              "      <td>4877567</td>\n",
              "      <td>26570463</td>\n",
              "      <td>1.451148e+07</td>\n",
              "      <td>13439137.5</td>\n",
              "      <td>9907922</td>\n",
              "      <td>48546161</td>\n",
              "      <td>2.341385e+07</td>\n",
              "      <td>18589709.5</td>\n",
              "    </tr>\n",
              "    <tr>\n",
              "      <th>Musical</th>\n",
              "      <td>5632086</td>\n",
              "      <td>218951625</td>\n",
              "      <td>7.233026e+07</td>\n",
              "      <td>53041787.5</td>\n",
              "      <td>11468231</td>\n",
              "      <td>5228953251</td>\n",
              "      <td>6.035979e+08</td>\n",
              "      <td>103167587.5</td>\n",
              "    </tr>\n",
              "    <tr>\n",
              "      <th>Romantic Comedy</th>\n",
              "      <td>468240</td>\n",
              "      <td>178406268</td>\n",
              "      <td>5.009595e+07</td>\n",
              "      <td>32680633.0</td>\n",
              "      <td>907414</td>\n",
              "      <td>356389765</td>\n",
              "      <td>7.777708e+07</td>\n",
              "      <td>57925202.0</td>\n",
              "    </tr>\n",
              "    <tr>\n",
              "      <th>Thriller/Suspense</th>\n",
              "      <td>2154540</td>\n",
              "      <td>293506292</td>\n",
              "      <td>5.861694e+07</td>\n",
              "      <td>28153827.0</td>\n",
              "      <td>3957025</td>\n",
              "      <td>485424724</td>\n",
              "      <td>8.965379e+07</td>\n",
              "      <td>51804588.0</td>\n",
              "    </tr>\n",
              "    <tr>\n",
              "      <th>Western</th>\n",
              "      <td>8247627</td>\n",
              "      <td>89302115</td>\n",
              "      <td>5.128735e+07</td>\n",
              "      <td>56932305.0</td>\n",
              "      <td>15983331</td>\n",
              "      <td>115781734</td>\n",
              "      <td>7.381571e+07</td>\n",
              "      <td>89042541.0</td>\n",
              "    </tr>\n",
              "  </tbody>\n",
              "</table>\n",
              "</div>"
            ],
            "text/plain": [
              "                    bilheteria_bruta                                       \\\n",
              "                                 min        max          mean      median   \n",
              "genero                                                                      \n",
              "Action                             0  623279547  1.046141e+08  43315244.5   \n",
              "Adventure                       2815  936662225  1.270471e+08  65000000.0   \n",
              "Black Comedy                17105219   52353636  3.251440e+07  28084357.0   \n",
              "Comedy                         45779  244082982  4.461329e+07  26923500.5   \n",
              "Concert/Performance         38174685   65281781  5.172823e+07  51728233.0   \n",
              "Documentary                    20521   32011576  1.129285e+07   9688331.0   \n",
              "Drama                              0  201151353  3.602608e+07  19730097.0   \n",
              "Horror                       4877567   26570463  1.451148e+07  13439137.5   \n",
              "Musical                      5632086  218951625  7.233026e+07  53041787.5   \n",
              "Romantic Comedy               468240  178406268  5.009595e+07  32680633.0   \n",
              "Thriller/Suspense            2154540  293506292  5.861694e+07  28153827.0   \n",
              "Western                      8247627   89302115  5.128735e+07  56932305.0   \n",
              "\n",
              "                    bilheteria_ajustada_inflacao                            \\\n",
              "                                             min         max          mean   \n",
              "genero                                                                       \n",
              "Action                                         0   660081224  1.374734e+08   \n",
              "Adventure                                   2984  2188229052  1.903974e+08   \n",
              "Black Comedy                            28392518    76758193  5.224349e+07   \n",
              "Comedy                                     82277  1362870985  8.466773e+07   \n",
              "Concert/Performance                     38174685    76646993  5.741084e+07   \n",
              "Documentary                                23064    35981010  1.271803e+07   \n",
              "Drama                                          0  1236035515  7.189302e+07   \n",
              "Horror                                   9907922    48546161  2.341385e+07   \n",
              "Musical                                 11468231  5228953251  6.035979e+08   \n",
              "Romantic Comedy                           907414   356389765  7.777708e+07   \n",
              "Thriller/Suspense                        3957025   485424724  8.965379e+07   \n",
              "Western                                 15983331   115781734  7.381571e+07   \n",
              "\n",
              "                                  \n",
              "                          median  \n",
              "genero                            \n",
              "Action                69012064.5  \n",
              "Adventure            102254492.0  \n",
              "Black Comedy          51579764.0  \n",
              "Comedy                51195217.0  \n",
              "Concert/Performance   57410839.0  \n",
              "Documentary           12344483.5  \n",
              "Drama                 39325794.0  \n",
              "Horror                18589709.5  \n",
              "Musical              103167587.5  \n",
              "Romantic Comedy       57925202.0  \n",
              "Thriller/Suspense     51804588.0  \n",
              "Western               89042541.0  "
            ]
          },
          "execution_count": 99,
          "metadata": {},
          "output_type": "execute_result"
        }
      ],
      "source": [
        "resumo1 = dados.groupby('genero').agg({'bilheteria_bruta':['min', 'max', 'mean', 'median'], 'bilheteria_ajustada_inflacao':['min', 'max', 'mean', 'median']})\n",
        "resumo1"
      ]
    },
    {
      "cell_type": "markdown",
      "id": "cRDo2tefVR-X",
      "metadata": {
        "cell_id": "00064-04467e31-dd92-44d0-a888-991d0bd3fc9d",
        "deepnote_cell_height": 52.390625,
        "deepnote_cell_type": "markdown",
        "id": "cRDo2tefVR-X"
      },
      "source": [
        "Está na hora de fazermos um pouco de gráficos. Não existe análise de dados sem visualização!!"
      ]
    },
    {
      "cell_type": "code",
      "execution_count": 100,
      "id": "GLpMO9ZCVR-X",
      "metadata": {
        "cell_id": "00067-be6424e0-7103-4296-9c43-614005db69d0",
        "deepnote_cell_height": 99,
        "deepnote_cell_type": "code",
        "deepnote_to_be_reexecuted": false,
        "execution_millis": 1234,
        "execution_start": 1654833404550,
        "id": "GLpMO9ZCVR-X",
        "source_hash": "56a43a0"
      },
      "outputs": [],
      "source": [
        "import seaborn as sns\n"
      ]
    },
    {
      "cell_type": "markdown",
      "id": "NGM7MKk3VR-X",
      "metadata": {
        "cell_id": "00068-66a111ab-15fe-451f-bb06-92aab86e9ecc",
        "deepnote_cell_height": 52.390625,
        "deepnote_cell_type": "markdown",
        "id": "NGM7MKk3VR-X"
      },
      "source": [
        "25 - Some a bilheteria_bruta por genero"
      ]
    },
    {
      "cell_type": "code",
      "execution_count": 101,
      "id": "KIKSw67CVR-X",
      "metadata": {
        "cell_id": "00069-d24a95c2-1b4c-4b0d-a7b8-89de52cb4da5",
        "deepnote_cell_height": 385.625,
        "deepnote_cell_type": "code",
        "deepnote_output_heights": [
          270.625
        ],
        "deepnote_to_be_reexecuted": false,
        "execution_millis": 44,
        "execution_start": 1654833548907,
        "id": "KIKSw67CVR-X",
        "outputId": "4c3e4e04-4701-4aed-b327-50162c1e2479",
        "source_hash": "7bdc7339"
      },
      "outputs": [
        {
          "data": {
            "text/plain": [
              "genero\n",
              "Action                  4184563282\n",
              "Adventure              16389069453\n",
              "Black Comedy              97543212\n",
              "Comedy                  8119619678\n",
              "Concert/Performance      103456466\n",
              "Documentary              180685619\n",
              "Drama                   4106972970\n",
              "Horror                    87068872\n",
              "Musical                 1157284155\n",
              "Romantic Comedy         1152206855\n",
              "Thriller/Suspense       1406806519\n",
              "Western                  359011459\n",
              "Name: bilheteria_bruta, dtype: int64"
            ]
          },
          "execution_count": 101,
          "metadata": {},
          "output_type": "execute_result"
        }
      ],
      "source": [
        "dados.groupby(['genero'])['bilheteria_bruta'].sum()\n"
      ]
    },
    {
      "cell_type": "code",
      "execution_count": 102,
      "id": "AY6Uv6YCVR-Y",
      "metadata": {
        "cell_id": "00071-e6ba710d-3b5d-4142-a0a0-28518bd61b3d",
        "deepnote_cell_height": 538.1875,
        "deepnote_cell_type": "code",
        "deepnote_output_heights": [
          21.1875,
          371
        ],
        "deepnote_to_be_reexecuted": false,
        "execution_millis": 758,
        "execution_start": 1654833604701,
        "id": "AY6Uv6YCVR-Y",
        "outputId": "7259d7fa-0e35-45ff-daa2-737993cd7edf",
        "source_hash": "17fb99b3"
      },
      "outputs": [
        {
          "data": {
            "text/plain": [
              "<AxesSubplot:xlabel='genero'>"
            ]
          },
          "execution_count": 102,
          "metadata": {},
          "output_type": "execute_result"
        },
        {
          "data": {
            "image/png": "[encoded data removed]",
            "text/plain": [
              "<Figure size 432x288 with 1 Axes>"
            ]
          },
          "metadata": {},
          "output_type": "display_data"
        }
      ],
      "source": [
        "dados.groupby(['genero'])['bilheteria_bruta'].sum().plot.bar()\n"
      ]
    },
    {
      "cell_type": "markdown",
      "id": "JiMIIC6cVR-Z",
      "metadata": {
        "created_in_deepnote_cell": true,
        "deepnote_cell_type": "markdown",
        "id": "JiMIIC6cVR-Z",
        "tags": []
      },
      "source": [
        "<a style='text-decoration:none;line-height:16px;display:flex;color:#5B5B62;padding:10px;justify-content:end;' href='https://deepnote.com?utm_source=created-in-deepnote-cell&projectId=a40c75ba-e429-46fb-872c-426d1864cfe2' target=\"_blank\">\n",
        "<img alt='Created in deepnote.com' style='display:inline;max-height:16px;margin:0px;margin-right:7.5px;' src='data:image/svg+xml;base64,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' > </img>\n",
        "Created in <span style='font-weight:600;margin-left:4px;'>Deepnote</span></a>"
      ]
    }
  ],
  "metadata": {
    "colab": {
      "name": "Desafio 6 - Estatísticas_Daniel.ipynb",
      "provenance": []
    },
    "deepnote": {},
    "deepnote_execution_queue": [],
    "deepnote_notebook_id": "92b3b4e2-51a4-4b0b-a7bb-75b0fea5cc20",
    "hide_input": false,
    "kernelspec": {
      "display_name": "Python 3.9.12 ('base')",
      "language": "python",
      "name": "python3"
    },
    "language_info": {
      "codemirror_mode": {
        "name": "ipython",
        "version": 3
      },
      "file_extension": ".py",
      "mimetype": "text/x-python",
      "name": "python",
      "nbconvert_exporter": "python",
      "pygments_lexer": "ipython3",
      "version": "3.9.12"
    },
    "vscode": {
      "interpreter": {
        "hash": "3a0de9df006df342b5e4296aedaeaf87f8585c794651fec65fd5881a82402807"
      }
    }
  },
  "nbformat": 4,
  "nbformat_minor": 5
}
