{
  "cells": [
    {
      "cell_type": "markdown",
      "metadata": {
        "id": "RHoidWQ4Xi_t"
      },
      "source": [
        "<div>\n",
        "    <p style=\"float: right;\"><img src=\"https://media.swipepages.com/2021/2/sirius-logo-principal-tag-1-300.png\" height=\"80px\"border=\"1px\"></p>\n",
        "    \n",
        "</div>\n",
        "<h1>Nano Desafio 5 </h1>\n",
        "<h2>Pandas </h2>\n",
        "\n",
        "Aluno: Daniel Arnóbio Dantas da Silva\n",
        "\n",
        "Data: 07/06/2022\n"
      ]
    },
    {
      "cell_type": "markdown",
      "metadata": {
        "id": "2YJPDSm2Xi_w"
      },
      "source": [
        "### Estima-se em torno de 70-80% do tempo e esforço total de um projeto de análise de dados é o pré-processamento. Uma das partes do processamento é o que chamamos de \"data cleaning\" que é  limpeza de dados e o processo de detecção e correção de registros corrompidos ou imprecisos. Isso é importante  para deixar os dados prontos para análises posteriores!\n",
        "###### Por isso, chegou sua vez de ver um pouco como isso tudo acontece!"
      ]
    },
    {
      "cell_type": "markdown",
      "metadata": {
        "id": "FWjQ4zMnXi_x"
      },
      "source": [
        "Você recebeu um csv chamado Churn em que você deve limpar e deixar esse dataset pronto para análises. Não se preocupe tanto em analisar o dataset agora. Seu objetivo, por hora, é encontrar possíveis erros de input, discutir com a área de negócios e tomar algumas decisões que serão comuns quando você receber um dataset:\n",
        " - Excluir ou não uma informação;\n",
        " - inputar um valor faltante;\n",
        " - substituir valores, etc"
      ]
    },
    {
      "cell_type": "markdown",
      "metadata": {
        "id": "wPJCuvzfXi_y"
      },
      "source": [
        "**Obs.: churn, em poucas palavras,são os casos onde um cliente ou usuário para de comprar ou usar o produto ou serviço de uma empresa.**"
      ]
    },
    {
      "cell_type": "markdown",
      "metadata": {
        "id": "cHt4vpU7Xi_z"
      },
      "source": [
        "Importando as bibliotecas"
      ]
    },
    {
      "cell_type": "code",
      "execution_count": 4,
      "metadata": {
        "id": "WK7DhQOyXi_0"
      },
      "outputs": [],
      "source": [
        "import pandas as pd\n",
        "import seaborn as sb\n",
        "import statistics as st"
      ]
    },
    {
      "cell_type": "markdown",
      "metadata": {
        "id": "VbiQ9D_UXi_1"
      },
      "source": [
        "Importando o dataframe"
      ]
    },
    {
      "cell_type": "code",
      "execution_count": 5,
      "metadata": {
        "id": "kRmeihCvYLT8"
      },
      "outputs": [],
      "source": [
        "df = pd.read_csv('https://raw.githubusercontent.com/daniel-arnobio/churmy-dataset/main/Churn.csv', sep = ';')"
      ]
    },
    {
      "cell_type": "markdown",
      "metadata": {
        "id": "xEn7Y-fFXi_2"
      },
      "source": [
        "Visualizando os primeiros registros"
      ]
    },
    {
      "cell_type": "code",
      "execution_count": 6,
      "metadata": {
        "colab": {
          "base_uri": "https://localhost:8080/"
        },
        "id": "PSgNuqnYXi_2",
        "outputId": "c08c87a8-87f4-4aa2-d50c-b69b01eaeffc"
      },
      "outputs": [
        {
          "data": {
            "text/html": [
              "<div>\n",
              "<style scoped>\n",
              "    .dataframe tbody tr th:only-of-type {\n",
              "        vertical-align: middle;\n",
              "    }\n",
              "\n",
              "    .dataframe tbody tr th {\n",
              "        vertical-align: top;\n",
              "    }\n",
              "\n",
              "    .dataframe thead th {\n",
              "        text-align: right;\n",
              "    }\n",
              "</style>\n",
              "<table border=\"1\" class=\"dataframe\">\n",
              "  <thead>\n",
              "    <tr style=\"text-align: right;\">\n",
              "      <th></th>\n",
              "      <th>X0</th>\n",
              "      <th>X1</th>\n",
              "      <th>X2</th>\n",
              "      <th>X3</th>\n",
              "      <th>X4</th>\n",
              "      <th>X4.1</th>\n",
              "      <th>X6</th>\n",
              "      <th>X7</th>\n",
              "      <th>X8</th>\n",
              "      <th>X9</th>\n",
              "      <th>X10</th>\n",
              "      <th>X11</th>\n",
              "    </tr>\n",
              "  </thead>\n",
              "  <tbody>\n",
              "    <tr>\n",
              "      <th>0</th>\n",
              "      <td>1</td>\n",
              "      <td>619</td>\n",
              "      <td>RS</td>\n",
              "      <td>Feminino</td>\n",
              "      <td>42</td>\n",
              "      <td>2</td>\n",
              "      <td>0</td>\n",
              "      <td>1</td>\n",
              "      <td>1</td>\n",
              "      <td>1</td>\n",
              "      <td>10134888.0</td>\n",
              "      <td>1</td>\n",
              "    </tr>\n",
              "    <tr>\n",
              "      <th>1</th>\n",
              "      <td>2</td>\n",
              "      <td>608</td>\n",
              "      <td>SC</td>\n",
              "      <td>Feminino</td>\n",
              "      <td>41</td>\n",
              "      <td>1</td>\n",
              "      <td>8380786</td>\n",
              "      <td>1</td>\n",
              "      <td>0</td>\n",
              "      <td>1</td>\n",
              "      <td>11254258.0</td>\n",
              "      <td>0</td>\n",
              "    </tr>\n",
              "    <tr>\n",
              "      <th>2</th>\n",
              "      <td>3</td>\n",
              "      <td>502</td>\n",
              "      <td>RS</td>\n",
              "      <td>Feminino</td>\n",
              "      <td>42</td>\n",
              "      <td>8</td>\n",
              "      <td>1596608</td>\n",
              "      <td>3</td>\n",
              "      <td>1</td>\n",
              "      <td>0</td>\n",
              "      <td>11393157.0</td>\n",
              "      <td>1</td>\n",
              "    </tr>\n",
              "    <tr>\n",
              "      <th>3</th>\n",
              "      <td>4</td>\n",
              "      <td>699</td>\n",
              "      <td>RS</td>\n",
              "      <td>Feminino</td>\n",
              "      <td>39</td>\n",
              "      <td>1</td>\n",
              "      <td>0</td>\n",
              "      <td>2</td>\n",
              "      <td>0</td>\n",
              "      <td>0</td>\n",
              "      <td>9382663.0</td>\n",
              "      <td>0</td>\n",
              "    </tr>\n",
              "    <tr>\n",
              "      <th>4</th>\n",
              "      <td>5</td>\n",
              "      <td>850</td>\n",
              "      <td>SC</td>\n",
              "      <td>Feminino</td>\n",
              "      <td>43</td>\n",
              "      <td>2</td>\n",
              "      <td>12551082</td>\n",
              "      <td>1</td>\n",
              "      <td>1</td>\n",
              "      <td>1</td>\n",
              "      <td>790841.0</td>\n",
              "      <td>0</td>\n",
              "    </tr>\n",
              "  </tbody>\n",
              "</table>\n",
              "</div>"
            ],
            "text/plain": [
              "   X0   X1  X2        X3  X4  X4.1        X6  X7  X8  X9         X10  X11\n",
              "0   1  619  RS  Feminino  42     2         0   1   1   1  10134888.0    1\n",
              "1   2  608  SC  Feminino  41     1   8380786   1   0   1  11254258.0    0\n",
              "2   3  502  RS  Feminino  42     8   1596608   3   1   0  11393157.0    1\n",
              "3   4  699  RS  Feminino  39     1         0   2   0   0   9382663.0    0\n",
              "4   5  850  SC  Feminino  43     2  12551082   1   1   1    790841.0    0"
            ]
          },
          "execution_count": 6,
          "metadata": {},
          "output_type": "execute_result"
        }
      ],
      "source": [
        "df.head()"
      ]
    },
    {
      "cell_type": "markdown",
      "metadata": {
        "id": "b5WScxHiXi_4"
      },
      "source": [
        "Corrigindo o nome das colunas"
      ]
    },
    {
      "cell_type": "code",
      "execution_count": 8,
      "metadata": {
        "id": "LnygyzV-Xi_4"
      },
      "outputs": [],
      "source": [
        "df.rename(columns = {\"X0\":\"Id\",\"X1\":\"Score\",\"X2\":\"Estado\",\"X3\":\"Genero\",\"X4\":\"Idade\",\"X4.1\":\"Patrimonio\",\"X6\":\"Saldo\",\"X7\":\"Produtos\",\"X8\":\"TemCartCredito\",\"X9\":\"Ativo\",\"X10\":\"Salario\",\"X11\":\"Saiu\"}, inplace=True)"
      ]
    },
    {
      "cell_type": "code",
      "execution_count": 9,
      "metadata": {
        "colab": {
          "base_uri": "https://localhost:8080/"
        },
        "id": "Qhr4OQ_sjTGs",
        "outputId": "50b7e4bf-836b-4a98-8aba-4951ce196840"
      },
      "outputs": [
        {
          "data": {
            "text/plain": [
              "Index(['Id', 'Score', 'Estado', 'Genero', 'Idade', 'Patrimonio', 'Saldo',\n",
              "       'Produtos', 'TemCartCredito', 'Ativo', 'Salario', 'Saiu'],\n",
              "      dtype='object')"
            ]
          },
          "execution_count": 9,
          "metadata": {},
          "output_type": "execute_result"
        }
      ],
      "source": [
        "df.columns"
      ]
    },
    {
      "cell_type": "code",
      "execution_count": 10,
      "metadata": {
        "colab": {
          "base_uri": "https://localhost:8080/",
          "height": 206
        },
        "id": "4QGtU7mGXi_4",
        "outputId": "e620dad9-8ec8-4c78-d5a5-eb3560af840e"
      },
      "outputs": [
        {
          "data": {
            "text/html": [
              "<div>\n",
              "<style scoped>\n",
              "    .dataframe tbody tr th:only-of-type {\n",
              "        vertical-align: middle;\n",
              "    }\n",
              "\n",
              "    .dataframe tbody tr th {\n",
              "        vertical-align: top;\n",
              "    }\n",
              "\n",
              "    .dataframe thead th {\n",
              "        text-align: right;\n",
              "    }\n",
              "</style>\n",
              "<table border=\"1\" class=\"dataframe\">\n",
              "  <thead>\n",
              "    <tr style=\"text-align: right;\">\n",
              "      <th></th>\n",
              "      <th>Id</th>\n",
              "      <th>Score</th>\n",
              "      <th>Estado</th>\n",
              "      <th>Genero</th>\n",
              "      <th>Idade</th>\n",
              "      <th>Patrimonio</th>\n",
              "      <th>Saldo</th>\n",
              "      <th>Produtos</th>\n",
              "      <th>TemCartCredito</th>\n",
              "      <th>Ativo</th>\n",
              "      <th>Salario</th>\n",
              "      <th>Saiu</th>\n",
              "    </tr>\n",
              "  </thead>\n",
              "  <tbody>\n",
              "    <tr>\n",
              "      <th>0</th>\n",
              "      <td>1</td>\n",
              "      <td>619</td>\n",
              "      <td>RS</td>\n",
              "      <td>Feminino</td>\n",
              "      <td>42</td>\n",
              "      <td>2</td>\n",
              "      <td>0</td>\n",
              "      <td>1</td>\n",
              "      <td>1</td>\n",
              "      <td>1</td>\n",
              "      <td>10134888.0</td>\n",
              "      <td>1</td>\n",
              "    </tr>\n",
              "    <tr>\n",
              "      <th>1</th>\n",
              "      <td>2</td>\n",
              "      <td>608</td>\n",
              "      <td>SC</td>\n",
              "      <td>Feminino</td>\n",
              "      <td>41</td>\n",
              "      <td>1</td>\n",
              "      <td>8380786</td>\n",
              "      <td>1</td>\n",
              "      <td>0</td>\n",
              "      <td>1</td>\n",
              "      <td>11254258.0</td>\n",
              "      <td>0</td>\n",
              "    </tr>\n",
              "    <tr>\n",
              "      <th>2</th>\n",
              "      <td>3</td>\n",
              "      <td>502</td>\n",
              "      <td>RS</td>\n",
              "      <td>Feminino</td>\n",
              "      <td>42</td>\n",
              "      <td>8</td>\n",
              "      <td>1596608</td>\n",
              "      <td>3</td>\n",
              "      <td>1</td>\n",
              "      <td>0</td>\n",
              "      <td>11393157.0</td>\n",
              "      <td>1</td>\n",
              "    </tr>\n",
              "    <tr>\n",
              "      <th>3</th>\n",
              "      <td>4</td>\n",
              "      <td>699</td>\n",
              "      <td>RS</td>\n",
              "      <td>Feminino</td>\n",
              "      <td>39</td>\n",
              "      <td>1</td>\n",
              "      <td>0</td>\n",
              "      <td>2</td>\n",
              "      <td>0</td>\n",
              "      <td>0</td>\n",
              "      <td>9382663.0</td>\n",
              "      <td>0</td>\n",
              "    </tr>\n",
              "    <tr>\n",
              "      <th>4</th>\n",
              "      <td>5</td>\n",
              "      <td>850</td>\n",
              "      <td>SC</td>\n",
              "      <td>Feminino</td>\n",
              "      <td>43</td>\n",
              "      <td>2</td>\n",
              "      <td>12551082</td>\n",
              "      <td>1</td>\n",
              "      <td>1</td>\n",
              "      <td>1</td>\n",
              "      <td>790841.0</td>\n",
              "      <td>0</td>\n",
              "    </tr>\n",
              "  </tbody>\n",
              "</table>\n",
              "</div>"
            ],
            "text/plain": [
              "   Id  Score Estado    Genero  Idade  Patrimonio     Saldo  Produtos  \\\n",
              "0   1    619     RS  Feminino     42           2         0         1   \n",
              "1   2    608     SC  Feminino     41           1   8380786         1   \n",
              "2   3    502     RS  Feminino     42           8   1596608         3   \n",
              "3   4    699     RS  Feminino     39           1         0         2   \n",
              "4   5    850     SC  Feminino     43           2  12551082         1   \n",
              "\n",
              "   TemCartCredito  Ativo     Salario  Saiu  \n",
              "0               1      1  10134888.0     1  \n",
              "1               0      1  11254258.0     0  \n",
              "2               1      0  11393157.0     1  \n",
              "3               0      0   9382663.0     0  \n",
              "4               1      1    790841.0     0  "
            ]
          },
          "execution_count": 10,
          "metadata": {},
          "output_type": "execute_result"
        }
      ],
      "source": [
        "df.head()"
      ]
    },
    {
      "cell_type": "code",
      "execution_count": 11,
      "metadata": {
        "colab": {
          "base_uri": "https://localhost:8080/"
        },
        "id": "51P4KY-cXi_5",
        "outputId": "848e3b4f-c2b7-49a8-a62d-60d1a044b0e3"
      },
      "outputs": [
        {
          "data": {
            "text/plain": [
              "(999, 12)"
            ]
          },
          "execution_count": 11,
          "metadata": {},
          "output_type": "execute_result"
        }
      ],
      "source": [
        "#Numero de linhas e colunas\n",
        "df.shape"
      ]
    },
    {
      "cell_type": "code",
      "execution_count": 12,
      "metadata": {
        "colab": {
          "base_uri": "https://localhost:8080/"
        },
        "id": "oywxlq4BW40M",
        "outputId": "2c659862-039d-45d2-81b7-068c04baf1c0"
      },
      "outputs": [
        {
          "data": {
            "text/plain": [
              "11988"
            ]
          },
          "execution_count": 12,
          "metadata": {},
          "output_type": "execute_result"
        }
      ],
      "source": [
        "#Numero de elementos no dataframe\n",
        "df.size"
      ]
    },
    {
      "cell_type": "markdown",
      "metadata": {
        "id": "9hQzhf0UXi_5"
      },
      "source": [
        "Salvando o dataframe em forma de tabela"
      ]
    },
    {
      "cell_type": "code",
      "execution_count": 13,
      "metadata": {
        "colab": {
          "base_uri": "https://localhost:8080/",
          "height": 17
        },
        "id": "lGqd4hoxXi_6",
        "outputId": "4ecc906a-7106-487f-9e88-90059a8c24b9"
      },
      "outputs": [],
      "source": [
        "df.to_csv('dados.csv') "
      ]
    },
    {
      "cell_type": "markdown",
      "metadata": {
        "id": "1OeMDYVYXi_6"
      },
      "source": [
        "Explorando as variáveis categóricas"
      ]
    },
    {
      "cell_type": "code",
      "execution_count": 14,
      "metadata": {
        "colab": {
          "base_uri": "https://localhost:8080/"
        },
        "id": "97c13gMyXi_6",
        "outputId": "34948d30-33b8-4440-d4fa-47b94b5bddad"
      },
      "outputs": [
        {
          "data": {
            "text/plain": [
              "Estado\n",
              "RS        478\n",
              "SC        258\n",
              "PR        257\n",
              "SP          4\n",
              "RP          1\n",
              "dtype: int64"
            ]
          },
          "execution_count": 14,
          "metadata": {},
          "output_type": "execute_result"
        }
      ],
      "source": [
        "df_estados_id = df[[\"Estado\"]].value_counts()\n",
        "df_estados_id.head()"
      ]
    },
    {
      "cell_type": "code",
      "execution_count": 15,
      "metadata": {
        "colab": {
          "base_uri": "https://localhost:8080/"
        },
        "id": "GAe3JVCAk07C",
        "outputId": "454e9c60-777e-444a-d6f1-e7795e8eaad2"
      },
      "outputs": [
        {
          "data": {
            "text/plain": [
              "array(['RS', 'SC', 'PR', 'RP', 'SP', 'TD'], dtype=object)"
            ]
          },
          "execution_count": 15,
          "metadata": {},
          "output_type": "execute_result"
        }
      ],
      "source": [
        "#dados incorretos \"RP\" e \"TD\"\n",
        "df['Estado'].unique()"
      ]
    },
    {
      "cell_type": "code",
      "execution_count": 16,
      "metadata": {
        "colab": {
          "base_uri": "https://localhost:8080/"
        },
        "id": "SLnxAPHFXpx3",
        "outputId": "a56a5c76-faeb-4491-eea9-9d74e4049327"
      },
      "outputs": [
        {
          "data": {
            "text/plain": [
              "RS    484\n",
              "SC    258\n",
              "PR    257\n",
              "Name: Estado, dtype: int64"
            ]
          },
          "execution_count": 16,
          "metadata": {},
          "output_type": "execute_result"
        }
      ],
      "source": [
        "#Substituindo RP, SP e TD pela moda (RS)\n",
        "df.loc[df.Estado == \"TD\", 'Estado'] = \"RS\"\n",
        "df.loc[df.Estado == \"SP\", 'Estado'] = \"RS\"\n",
        "df.loc[df.Estado == \"RP\", 'Estado'] = \"RS\"\n",
        "df['Estado'].value_counts()"
      ]
    },
    {
      "cell_type": "code",
      "execution_count": 49,
      "metadata": {
        "id": "PSofln62Xi_6"
      },
      "outputs": [],
      "source": [
        "import plotly.express as px"
      ]
    },
    {
      "cell_type": "code",
      "execution_count": 56,
      "metadata": {
        "colab": {
          "base_uri": "https://localhost:8080/",
          "height": 286
        },
        "id": "6jX_rRWaqUEk",
        "outputId": "1062eac3-c8f5-4aea-b57d-e0859ac05c81"
      },
      "outputs": [
        {
          "data": {
            "text/plain": [
              "<AxesSubplot:>"
            ]
          },
          "execution_count": 56,
          "metadata": {},
          "output_type": "execute_result"
        },
        {
          "data": {
            "image/png": "[encoded data removed]",
            "text/plain": [
              "<Figure size 432x288 with 1 Axes>"
            ]
          },
          "metadata": {
            "needs_background": "light"
          },
          "output_type": "display_data"
        }
      ],
      "source": [
        "df['Estado'].value_counts().plot.bar()"
      ]
    },
    {
      "cell_type": "markdown",
      "metadata": {
        "id": "meLxFtg_Xi_8"
      },
      "source": [
        "Explorando a variável gênero"
      ]
    },
    {
      "cell_type": "code",
      "execution_count": 18,
      "metadata": {
        "colab": {
          "base_uri": "https://localhost:8080/"
        },
        "id": "a7rb5aX4Au7j",
        "outputId": "36d570c7-7b7b-48d3-8654-b9fc6451b15b"
      },
      "outputs": [
        {
          "data": {
            "text/plain": [
              "Masculino    521\n",
              "Feminino     461\n",
              "M              6\n",
              "F              2\n",
              "Fem            1\n",
              "Name: Genero, dtype: int64"
            ]
          },
          "execution_count": 18,
          "metadata": {},
          "output_type": "execute_result"
        }
      ],
      "source": [
        "df['Genero'].value_counts()"
      ]
    },
    {
      "cell_type": "code",
      "execution_count": 19,
      "metadata": {
        "id": "PO2loG6XXi_8"
      },
      "outputs": [],
      "source": [
        "df['Genero'].replace(['M'], 'Masculino', inplace = True)\n",
        "df['Genero'].replace(['F', 'Fem'], 'Feminino', inplace = True)"
      ]
    },
    {
      "cell_type": "markdown",
      "metadata": {
        "id": "I8NZ9KS3Xi_8"
      },
      "source": [
        "15 - Consegue ver a mesma informação graficamente?"
      ]
    },
    {
      "cell_type": "code",
      "execution_count": 20,
      "metadata": {
        "colab": {
          "base_uri": "https://localhost:8080/",
          "height": 357
        },
        "id": "oAJ1VAm2owZ9",
        "outputId": "460cfeea-7174-4b90-b76b-358f3c05c5eb"
      },
      "outputs": [
        {
          "data": {
            "text/plain": [
              "Masculino    527\n",
              "Feminino     464\n",
              "Name: Genero, dtype: int64"
            ]
          },
          "execution_count": 20,
          "metadata": {},
          "output_type": "execute_result"
        },
        {
          "data": {
            "image/png": "[encoded data removed]",
            "text/plain": [
              "<Figure size 432x288 with 1 Axes>"
            ]
          },
          "metadata": {
            "needs_background": "light"
          },
          "output_type": "display_data"
        }
      ],
      "source": [
        "df_distribuicao_genero = df['Genero'].value_counts()\n",
        "graf1 = df_distribuicao_genero.plot.bar()\n",
        "df_distribuicao_genero"
      ]
    },
    {
      "cell_type": "markdown",
      "metadata": {
        "id": "ecJ7XTzxXi_9"
      },
      "source": [
        "Verificando dados faltantes na coluna gênero"
      ]
    },
    {
      "cell_type": "code",
      "execution_count": 21,
      "metadata": {
        "colab": {
          "base_uri": "https://localhost:8080/"
        },
        "id": "WuVQvMj5u5ck",
        "outputId": "7730f47e-2c11-44d0-ea11-1295b0b49e41"
      },
      "outputs": [
        {
          "data": {
            "text/plain": [
              "8"
            ]
          },
          "execution_count": 21,
          "metadata": {},
          "output_type": "execute_result"
        }
      ],
      "source": [
        "df['Genero'].isnull().sum()"
      ]
    },
    {
      "cell_type": "code",
      "execution_count": 22,
      "metadata": {
        "cell_id": "92c1cbe696f74e2f87912479cf140738",
        "colab": {
          "base_uri": "https://localhost:8080/",
          "height": 36
        },
        "deepnote_cell_height": 81,
        "deepnote_cell_type": "code",
        "deepnote_to_be_reexecuted": false,
        "execution_millis": 0,
        "execution_start": 1654734629878,
        "id": "Fnq7t9knVdx9",
        "outputId": "62a6353d-9f57-4a20-b2df-47f73a8689ff",
        "source_hash": "40a112c9",
        "tags": []
      },
      "outputs": [
        {
          "data": {
            "text/plain": [
              "'Masculino'"
            ]
          },
          "execution_count": 22,
          "metadata": {},
          "output_type": "execute_result"
        }
      ],
      "source": [
        "#Substituir dados faltantes pela moda \n",
        "#Encontrando a moda\n",
        "st.mode(df['Genero'])"
      ]
    },
    {
      "cell_type": "markdown",
      "metadata": {},
      "source": [
        "Substituindo os dados faltantes na coluna gênero pela moda"
      ]
    },
    {
      "cell_type": "code",
      "execution_count": 23,
      "metadata": {
        "id": "HsxmKqE5Xi_-"
      },
      "outputs": [],
      "source": [
        "df[\"Genero\"].fillna(st.mode(df['Genero']), inplace=True)"
      ]
    },
    {
      "cell_type": "code",
      "execution_count": 24,
      "metadata": {
        "colab": {
          "base_uri": "https://localhost:8080/"
        },
        "id": "CPkKGvL3wGOu",
        "outputId": "3913366f-f2b7-43a3-d650-3e68d60e29fe"
      },
      "outputs": [
        {
          "data": {
            "text/plain": [
              "array(['Feminino', 'Masculino'], dtype=object)"
            ]
          },
          "execution_count": 24,
          "metadata": {},
          "output_type": "execute_result"
        }
      ],
      "source": [
        "df['Genero'].unique()"
      ]
    },
    {
      "cell_type": "markdown",
      "metadata": {
        "id": "urD07XVeXi_-"
      },
      "source": [
        "Explorando as variáveis numéricas\n",
        "\n",
        "Maximo, minimo, média etc\n"
      ]
    },
    {
      "cell_type": "code",
      "execution_count": 25,
      "metadata": {
        "colab": {
          "base_uri": "https://localhost:8080/"
        },
        "id": "dOadik8818Em",
        "outputId": "9278907f-2509-4838-deff-6e6e91a4b296"
      },
      "outputs": [
        {
          "data": {
            "text/plain": [
              "count    999.000000\n",
              "mean     648.621622\n",
              "std       98.264219\n",
              "min      376.000000\n",
              "25%      580.000000\n",
              "50%      653.000000\n",
              "75%      721.000000\n",
              "max      850.000000\n",
              "Name: Score, dtype: float64"
            ]
          },
          "execution_count": 25,
          "metadata": {},
          "output_type": "execute_result"
        }
      ],
      "source": [
        "df['Score'].describe()"
      ]
    },
    {
      "cell_type": "markdown",
      "metadata": {
        "id": "MkDRz_pAXi__"
      },
      "source": [
        "20 - Conseguiria fazer um boxplot desssa variável"
      ]
    },
    {
      "cell_type": "code",
      "execution_count": 26,
      "metadata": {
        "colab": {
          "base_uri": "https://localhost:8080/",
          "height": 282
        },
        "id": "2MLp388EaqCJ",
        "outputId": "49bad036-f158-4039-81af-430726eb7393"
      },
      "outputs": [
        {
          "data": {
            "text/plain": [
              "<AxesSubplot:>"
            ]
          },
          "execution_count": 26,
          "metadata": {},
          "output_type": "execute_result"
        },
        {
          "data": {
            "image/png": "[encoded data removed]",
            "text/plain": [
              "<Figure size 432x288 with 1 Axes>"
            ]
          },
          "metadata": {
            "needs_background": "light"
          },
          "output_type": "display_data"
        }
      ],
      "source": [
        "df.boxplot(column='Score')"
      ]
    },
    {
      "cell_type": "markdown",
      "metadata": {
        "id": "ojvzFT8xXi__"
      },
      "source": [
        "Verificando a distribuição da coluna Score"
      ]
    },
    {
      "cell_type": "code",
      "execution_count": 27,
      "metadata": {
        "colab": {
          "base_uri": "https://localhost:8080/",
          "height": 316
        },
        "id": "3eaNUgJQXjAA",
        "outputId": "f83634a4-74e0-45a2-ad2f-2c5ed540120e"
      },
      "outputs": [
        {
          "data": {
            "text/plain": [
              "array([[<AxesSubplot:title={'center':'Score'}>]], dtype=object)"
            ]
          },
          "execution_count": 27,
          "metadata": {},
          "output_type": "execute_result"
        },
        {
          "data": {
            "image/png": "[encoded data removed]",
            "text/plain": [
              "<Figure size 432x288 with 1 Axes>"
            ]
          },
          "metadata": {
            "needs_background": "light"
          },
          "output_type": "display_data"
        }
      ],
      "source": [
        "df.hist(column = \"Score\")"
      ]
    },
    {
      "cell_type": "code",
      "execution_count": 28,
      "metadata": {
        "colab": {
          "base_uri": "https://localhost:8080/",
          "height": 296
        },
        "id": "0jxxFR_LbGai",
        "outputId": "cdb94031-3f8d-46a3-b576-1acd564a92d4"
      },
      "outputs": [
        {
          "data": {
            "text/plain": [
              "<AxesSubplot:xlabel='Score', ylabel='Count'>"
            ]
          },
          "execution_count": 28,
          "metadata": {},
          "output_type": "execute_result"
        },
        {
          "data": {
            "image/png": "[encoded data removed]",
            "text/plain": [
              "<Figure size 432x288 with 1 Axes>"
            ]
          },
          "metadata": {
            "needs_background": "light"
          },
          "output_type": "display_data"
        }
      ],
      "source": [
        "#Utilizado a biblioteca do Seaborn\n",
        "sb.histplot(data=df['Score'])"
      ]
    },
    {
      "cell_type": "markdown",
      "metadata": {
        "id": "ADCslUdfXjAA"
      },
      "source": [
        "Algumas estatísticas da variável(coluna) 'Idade':"
      ]
    },
    {
      "cell_type": "code",
      "execution_count": 29,
      "metadata": {
        "colab": {
          "base_uri": "https://localhost:8080/"
        },
        "id": "k9Dy5ttzXjAA",
        "outputId": "e99938b5-20fb-4699-9fac-a4d659df9fbe"
      },
      "outputs": [
        {
          "data": {
            "text/plain": [
              "count    999.000000\n",
              "mean      38.902903\n",
              "std       11.401912\n",
              "min      -20.000000\n",
              "25%       32.000000\n",
              "50%       37.000000\n",
              "75%       44.000000\n",
              "max      140.000000\n",
              "Name: Idade, dtype: float64"
            ]
          },
          "execution_count": 29,
          "metadata": {},
          "output_type": "execute_result"
        }
      ],
      "source": [
        "df['Idade'].describe()"
      ]
    },
    {
      "cell_type": "code",
      "execution_count": 57,
      "metadata": {
        "colab": {
          "base_uri": "https://localhost:8080/",
          "height": 282
        },
        "id": "JEMwm_aEXjAB",
        "outputId": "f24e5a09-5993-45c5-b3aa-d072810dca83"
      },
      "outputs": [
        {
          "data": {
            "image/png": "[encoded data removed]",
            "text/plain": [
              "<Figure size 432x288 with 1 Axes>"
            ]
          },
          "metadata": {
            "needs_background": "light"
          },
          "output_type": "display_data"
        }
      ],
      "source": [
        "df.boxplot(column='Idade');"
      ]
    },
    {
      "cell_type": "code",
      "execution_count": null,
      "metadata": {},
      "outputs": [],
      "source": [
        "#Coluna idade negativa e valor máx 140"
      ]
    },
    {
      "cell_type": "code",
      "execution_count": 32,
      "metadata": {
        "colab": {
          "base_uri": "https://localhost:8080/",
          "height": 296
        },
        "id": "h6ff4kh5bcd6",
        "outputId": "2a94560e-cbf8-40c1-fec4-9688d80931d1"
      },
      "outputs": [
        {
          "data": {
            "text/plain": [
              "<AxesSubplot:xlabel='Idade', ylabel='Count'>"
            ]
          },
          "execution_count": 32,
          "metadata": {},
          "output_type": "execute_result"
        },
        {
          "data": {
            "image/png": "[encoded data removed]",
            "text/plain": [
              "<Figure size 432x288 with 1 Axes>"
            ]
          },
          "metadata": {
            "needs_background": "light"
          },
          "output_type": "display_data"
        }
      ],
      "source": [
        "sb.histplot(data=df['Idade'])"
      ]
    },
    {
      "cell_type": "markdown",
      "metadata": {},
      "source": [
        "Substituindo os dados destoantes pela moda da coluna\n"
      ]
    },
    {
      "cell_type": "code",
      "execution_count": 34,
      "metadata": {
        "colab": {
          "base_uri": "https://localhost:8080/"
        },
        "id": "QwK3wLLrcEnQ",
        "outputId": "eedd2ead-4c26-4127-8191-a58dca5bc618"
      },
      "outputs": [
        {
          "data": {
            "text/plain": [
              "36"
            ]
          },
          "execution_count": 34,
          "metadata": {},
          "output_type": "execute_result"
        }
      ],
      "source": [
        "#Encontrando a moda\n",
        "st.mode(df['Idade'])"
      ]
    },
    {
      "cell_type": "code",
      "execution_count": 35,
      "metadata": {
        "id": "_dttEPJmcMip"
      },
      "outputs": [],
      "source": [
        "#Substituindo  36 na coluna 'Idade'\n",
        "df['Idade'].replace([-20,-10,140], 36, inplace= True)"
      ]
    },
    {
      "cell_type": "markdown",
      "metadata": {
        "id": "JbVTHz9IXjAC"
      },
      "source": [
        "Algumas estatísticas da variável saldo"
      ]
    },
    {
      "cell_type": "code",
      "execution_count": 36,
      "metadata": {
        "colab": {
          "base_uri": "https://localhost:8080/"
        },
        "id": "ThVCZ2phXjAC",
        "outputId": "049ae8c0-5b8c-46c2-f329-18383612acc2"
      },
      "outputs": [
        {
          "data": {
            "text/plain": [
              "count    9.990000e+02\n",
              "mean     7.164928e+06\n",
              "std      6.311840e+06\n",
              "min      0.000000e+00\n",
              "25%      0.000000e+00\n",
              "50%      8.958835e+06\n",
              "75%      1.258684e+07\n",
              "max      2.117743e+07\n",
              "Name: Saldo, dtype: float64"
            ]
          },
          "execution_count": 36,
          "metadata": {},
          "output_type": "execute_result"
        }
      ],
      "source": [
        "df['Saldo'].describe()"
      ]
    },
    {
      "cell_type": "markdown",
      "metadata": {
        "id": "dhGzPV8XXjAD"
      },
      "source": [
        "Boxplot da variável saldo"
      ]
    },
    {
      "cell_type": "code",
      "execution_count": 37,
      "metadata": {
        "colab": {
          "base_uri": "https://localhost:8080/",
          "height": 293
        },
        "id": "lRII62lBXjAD",
        "outputId": "5d30b230-a8a9-4dd9-e022-a6d30daea50c"
      },
      "outputs": [
        {
          "data": {
            "text/plain": [
              "<AxesSubplot:>"
            ]
          },
          "execution_count": 37,
          "metadata": {},
          "output_type": "execute_result"
        },
        {
          "data": {
            "image/png": "[encoded data removed]",
            "text/plain": [
              "<Figure size 432x288 with 1 Axes>"
            ]
          },
          "metadata": {
            "needs_background": "light"
          },
          "output_type": "display_data"
        }
      ],
      "source": [
        "df.boxplot(column=['Saldo'])"
      ]
    },
    {
      "cell_type": "markdown",
      "metadata": {
        "id": "APJPmvVGXjAD"
      },
      "source": [
        "Algumas estatísticas da variável salário"
      ]
    },
    {
      "cell_type": "code",
      "execution_count": 38,
      "metadata": {
        "colab": {
          "base_uri": "https://localhost:8080/"
        },
        "id": "wmcrlj9mXjAD",
        "outputId": "bed1fb01-6c58-488c-d635-a4a60aef25bc"
      },
      "outputs": [
        {
          "data": {
            "text/plain": [
              "count    9.920000e+02\n",
              "mean     3.528762e+07\n",
              "std      5.305800e+08\n",
              "min      9.677000e+03\n",
              "25%      3.029011e+06\n",
              "50%      8.703250e+06\n",
              "75%      1.405213e+07\n",
              "max      1.193469e+10\n",
              "Name: Salario, dtype: float64"
            ]
          },
          "execution_count": 38,
          "metadata": {},
          "output_type": "execute_result"
        }
      ],
      "source": [
        "df['Salario'].describe()"
      ]
    },
    {
      "cell_type": "markdown",
      "metadata": {
        "id": "h2lglmf0XjAE"
      },
      "source": [
        "Boxplot da variável salário"
      ]
    },
    {
      "cell_type": "code",
      "execution_count": 39,
      "metadata": {
        "colab": {
          "base_uri": "https://localhost:8080/",
          "height": 276
        },
        "id": "J-EXW7u_XjAE",
        "outputId": "c9808960-f229-4312-ef60-2237be05f11c"
      },
      "outputs": [
        {
          "data": {
            "image/png": "[encoded data removed]",
            "text/plain": [
              "<Figure size 432x288 with 1 Axes>"
            ]
          },
          "metadata": {
            "needs_background": "light"
          },
          "output_type": "display_data"
        }
      ],
      "source": [
        "boxplot_salario = df.boxplot(column=['Salario'])"
      ]
    },
    {
      "cell_type": "markdown",
      "metadata": {
        "id": "GJ4qWJ_KXjAE"
      },
      "source": [
        "Histograma da variável salário"
      ]
    },
    {
      "cell_type": "code",
      "execution_count": 40,
      "metadata": {
        "colab": {
          "base_uri": "https://localhost:8080/",
          "height": 296
        },
        "id": "sIUTSOFvXjAE",
        "outputId": "37099e95-533b-4364-e5da-b3ac99fb24e6"
      },
      "outputs": [
        {
          "data": {
            "text/plain": [
              "<AxesSubplot:xlabel='Salario', ylabel='Count'>"
            ]
          },
          "execution_count": 40,
          "metadata": {},
          "output_type": "execute_result"
        },
        {
          "data": {
            "image/png": "[encoded data removed]",
            "text/plain": [
              "<Figure size 432x288 with 1 Axes>"
            ]
          },
          "metadata": {
            "needs_background": "light"
          },
          "output_type": "display_data"
        }
      ],
      "source": [
        "sb.histplot(data=df['Salario'])"
      ]
    },
    {
      "cell_type": "markdown",
      "metadata": {
        "id": "uXj6y3-rXjAE"
      },
      "source": [
        "Substituindo o outlier na coluna Salário pelo valor máximo"
      ]
    },
    {
      "cell_type": "code",
      "execution_count": 41,
      "metadata": {
        "id": "-ylu2UH9XjAE"
      },
      "outputs": [],
      "source": [
        "#Supondo que são outliers! O que é isso:\n",
        "##Os outliers são dados que se diferenciam drasticamente de todos os outros.\n",
        "#Em outras palavras, um outlier é um valor que foge da normalidade e que pode (e provavelmente irá)\n",
        "#causar anomalias nos resultados obtidos por meio de algoritmos e sistemas de análise."
      ]
    },
    {
      "cell_type": "code",
      "execution_count": 42,
      "metadata": {
        "colab": {
          "base_uri": "https://localhost:8080/"
        },
        "id": "REXXW8J6XjAF",
        "outputId": "4fdb1843-e3d9-449b-c941-7d6dab0e81ec"
      },
      "outputs": [
        {
          "data": {
            "text/plain": [
              "11934688000.0"
            ]
          },
          "execution_count": 42,
          "metadata": {},
          "output_type": "execute_result"
        }
      ],
      "source": [
        "df['Salario'].max()"
      ]
    },
    {
      "cell_type": "code",
      "execution_count": 43,
      "metadata": {
        "colab": {
          "base_uri": "https://localhost:8080/"
        },
        "id": "opxh5JpIdp-H",
        "outputId": "5b599084-518c-4558-d3c4-c71e300a3f4b"
      },
      "outputs": [
        {
          "data": {
            "text/plain": [
              "9677.0"
            ]
          },
          "execution_count": 43,
          "metadata": {},
          "output_type": "execute_result"
        }
      ],
      "source": [
        "df['Salario'].min()"
      ]
    },
    {
      "cell_type": "code",
      "execution_count": 45,
      "metadata": {
        "id": "lAO8-Zm9eDIi"
      },
      "outputs": [],
      "source": [
        "df.loc[df.Salario > 1061159976, 'Salario'] = 1061159976"
      ]
    },
    {
      "cell_type": "markdown",
      "metadata": {
        "id": "KzPIDjRMXjAF"
      },
      "source": [
        "Verificando os valores nulos no dataset"
      ]
    },
    {
      "cell_type": "code",
      "execution_count": 46,
      "metadata": {
        "colab": {
          "base_uri": "https://localhost:8080/"
        },
        "id": "H2pXphElXjAG",
        "outputId": "45c706c5-bc50-478b-833c-fa39a4419f24"
      },
      "outputs": [
        {
          "data": {
            "text/plain": [
              "Id                0\n",
              "Score             0\n",
              "Estado            0\n",
              "Genero            0\n",
              "Idade             0\n",
              "Patrimonio        0\n",
              "Saldo             0\n",
              "Produtos          0\n",
              "TemCartCredito    0\n",
              "Ativo             0\n",
              "Salario           7\n",
              "Saiu              0\n",
              "dtype: int64"
            ]
          },
          "execution_count": 46,
          "metadata": {},
          "output_type": "execute_result"
        }
      ],
      "source": [
        "df.isnull().sum()"
      ]
    },
    {
      "cell_type": "markdown",
      "metadata": {
        "id": "mKL0W7M0XjAG"
      },
      "source": [
        "Substituindo os valores nulos pela mediana"
      ]
    },
    {
      "cell_type": "code",
      "execution_count": 58,
      "metadata": {
        "id": "Roo2R1lsXjAG"
      },
      "outputs": [],
      "source": [
        "#Substituir os salarios nulos para o valor máximo\n",
        "df[\"Salario\"].fillna(df[\"Salario\"].median(), inplace=True)"
      ]
    },
    {
      "cell_type": "markdown",
      "metadata": {
        "id": "HNwo4CweXjAH"
      },
      "source": [
        "35 -Parabéns por ter chegado até aqui!!"
      ]
    },
    {
      "cell_type": "code",
      "execution_count": 48,
      "metadata": {
        "colab": {
          "base_uri": "https://localhost:8080/"
        },
        "id": "59hSjNZZXjAH",
        "outputId": "f730322a-9065-4bfd-dfd3-1e94d777db24"
      },
      "outputs": [
        {
          "data": {
            "text/plain": [
              "Id                0\n",
              "Score             0\n",
              "Estado            0\n",
              "Genero            0\n",
              "Idade             0\n",
              "Patrimonio        0\n",
              "Saldo             0\n",
              "Produtos          0\n",
              "TemCartCredito    0\n",
              "Ativo             0\n",
              "Salario           0\n",
              "Saiu              0\n",
              "dtype: int64"
            ]
          },
          "execution_count": 48,
          "metadata": {},
          "output_type": "execute_result"
        }
      ],
      "source": [
        "df.isnull().sum()"
      ]
    }
  ],
  "metadata": {
    "colab": {
      "name": "Desafio 5 - Limpando um dataset_Daniel .ipynb",
      "provenance": []
    },
    "hide_input": false,
    "kernelspec": {
      "display_name": "Python 3.9.12 ('base')",
      "language": "python",
      "name": "python3"
    },
    "language_info": {
      "codemirror_mode": {
        "name": "ipython",
        "version": 3
      },
      "file_extension": ".py",
      "mimetype": "text/x-python",
      "name": "python",
      "nbconvert_exporter": "python",
      "pygments_lexer": "ipython3",
      "version": "3.9.12"
    },
    "vscode": {
      "interpreter": {
        "hash": "3a0de9df006df342b5e4296aedaeaf87f8585c794651fec65fd5881a82402807"
      }
    }
  },
  "nbformat": 4,
  "nbformat_minor": 0
}
